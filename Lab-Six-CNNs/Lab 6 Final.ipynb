{
 "cells": [
  {
   "cell_type": "markdown",
   "metadata": {},
   "source": [
    "# Lab Assignment Five: Wide & Deep Network Architectures\n",
    "\n",
    "## Team Members\n",
    "1. Piyush Metkar  - 47509180\n",
    "2. Rishab Vaishya - 47505527\n",
    "3. Dhaval Gogri   - 47444609\n",
    "\n",
    "# BUSINESS UNDERSTANDING\n",
    "\n",
    "REFERENCE : https://www.kaggle.com/moltean/fruits/data\n",
    "\n",
    "This dataset is taken from Kaggle and it is about different type of fruits whose images are taken at different angles in 360 degrees. The photos have been taken by first keeping the fruit in vertical standing position and then by laying it in horizontal position. 360 degrees gives you an angle from each and every side making accuracy pretty high.\n",
    "\n",
    "The study of this project will help companies such as Tropicana which sell fruit packets, fruit juices, or anything related to fruit. The company might have a manufacturing facility where many different kinds of fruit products are made. This model can be implemented for automating processes such as sorting of fruits according to their kind. \n",
    "\n",
    "When the container of these fruits arrive at the manufacturing facility, the software will recognize the fruit by using our machine learning algorithm and send the container to its respective place. It is very important to have a very high accuracy in this regard as one fruit cannot be mixed with another fruit. Because if some fruit is mixed with another fruit like banana with litchie, it will spoil the entire batch.\n",
    "\n",
    "Further development in this study will also help in detecting fruit quality depending on the size, shape, color and texture etc which in turn would help throw away rotten fruit and only keep the fresh and the quality ones.\n",
    "\n",
    "This technique when implemented can also be useful for other food product other than fruits like food grains, meat etc subject to availability of those respective images to train the dataset.\n",
    "\n",
    "Even while farming, the quality of the fruit can be continuously monitored and data can be collected about its growth. If any issue is found, corrective measures can be taken immediately to prevent any losses to farmers. \n",
    "\n",
    "For this case we are looking the model to perform at really good rate and expect accuracy more than 90%.\n",
    "\n",
    "\n",
    "# 1. GRADING RUBRIC\n",
    "\n",
    "## 1.1 Evaluation Metric\n",
    "\n",
    "The business case that we are considering for this project is a situation where we will be segregating the fruits as per their types. After the frutis are segregated, they will go to their respective jobs which could be either getting juice, pulp, jams or even shampoo depending on fruit type.\n",
    "\n",
    "So it is important to identitfy the correct fruit and classify it in proper type. Let's say we are segregating a batch of apples and there comes one litchie among the apples which is falsely classified as an apple. If this litchie goes unnoticed with all the apples to get juice, it will not only spoil the entire batch of apple. But also will cause serious health issues to customers having allergy due to litchie who will buy the product thinking apple juice.\n",
    "\n",
    "Hence the evaluation metric that we will be choosing is **Accuracy and precision** because we want higher number of true positives and lower number of false positives.\n",
    "\n",
    "## 1.2 Cross Validation\n",
    "\n",
    "For cross validation we will be using **K-Fold Cross Validation** technique with 10 folds. This is because we have very even distribution of data for all the classes. The model will be trained for 9 folds in each iteration and will be validated on 10th fold.\n",
    "\n",
    "Also in the dataset, we have separate test data included. Hence the trained model will be tested on the test data.\n",
    "\n",
    "\n",
    "# 2. Modeling\n",
    "We are using the following reference to import the data images from dataset and thus preparing the data for model.\n",
    "\n",
    "https://www.kaggle.com/naveenc131/cnn-with-accuracy-of-98\n",
    "\n",
    "## 2.1 Data Expansion\n",
    "\n",
    "Let's consider an example where there are multiple fruits which are travelling on a conveyor belt. These fruits may be present in any orientation. In dataset, we have images taken in such a way that each fruit is kept vertically standing and horizontally laid down position and then the images are taken from all the angles. This doesn't  actually cover the upside down orientation of the fruit.\n",
    "\n",
    "Hence we are **vertically flipping** the images so that our model also covers the upside down orientation of fruit. "
   ]
  },
  {
   "cell_type": "code",
   "execution_count": 1,
   "metadata": {},
   "outputs": [
    {
     "name": "stderr",
     "output_type": "stream",
     "text": [
      "Using TensorFlow backend.\n"
     ]
    }
   ],
   "source": [
    "import numpy as np # linear algebra\n",
    "import pandas as pd # data processing, CSV file I/O (e.g. pd.read_csv)\n",
    "import keras \n",
    "import tensorflow as tf\n",
    "import matplotlib.pyplot as plt\n",
    "%matplotlib inline\n",
    "import cv2\n",
    "import glob\n",
    "import os\n",
    "\n",
    "import itertools\n",
    "\n",
    "from keras.models import Sequential,Model\n",
    "from keras.layers import Dense,Dropout,Conv2D,MaxPooling2D,Flatten,Activation,BatchNormalization\n",
    "from keras.optimizers import Adamax\n",
    "from keras.layers.advanced_activations import LeakyReLU\n",
    "from keras import backend as K\n",
    "\n",
    "from keras.callbacks import Callback\n",
    "from sklearn.metrics import confusion_matrix, f1_score, precision_score, recall_score, accuracy_score\n",
    "\n",
    "from sklearn.preprocessing import StandardScaler\n",
    "from sklearn import metrics as mt\n",
    "from sklearn.neural_network import MLPClassifier"
   ]
  },
  {
   "cell_type": "code",
   "execution_count": 15,
   "metadata": {},
   "outputs": [],
   "source": [
    "def rgb2gray(rgb):\n",
    "    return np.dot(rgb[...,:3], [0.299, 0.587, 0.114])"
   ]
  },
  {
   "cell_type": "code",
   "execution_count": 17,
   "metadata": {},
   "outputs": [
    {
     "name": "stdout",
     "output_type": "stream",
     "text": [
      "(57472, 100, 100, 3)\n",
      "(28736, 10000)\n"
     ]
    }
   ],
   "source": [
    "IMAGE_SIZE = 100\n",
    "\n",
    "training_fruit_img = []\n",
    "training_label = []\n",
    "\n",
    "training_fruit_img_bw = []\n",
    "training_label_bw = []\n",
    "\n",
    "for dir_path in glob.glob(\"/Users/piyushmetkar/Documents/SMU/Notes/Spring 18/7324 Machine Learning in Python/Lab 6/fruits-360/Training/*\"):\n",
    "    img_label = dir_path.split(\"/\")[-1]\n",
    "# for dir_path in glob.glob(r'D:\\Downloads\\Notes\\CSE_7324_ML\\fruits-360_dataset_2018_02_08\\Training\\*'):\n",
    "#     img_label = dir_path.split(\"\\\\\")[-1]\n",
    "    \n",
    "    for image_path in glob.glob(os.path.join(dir_path,\"*.jpg\")):\n",
    "        #Read the images\n",
    "        image = cv2.imread(image_path,cv2.IMREAD_COLOR)\n",
    "        image = cv2.resize(image, (IMAGE_SIZE, IMAGE_SIZE))\n",
    "        \n",
    "        image_bw = rgb2gray(image)    #Grayscale images for MLP\n",
    "        \n",
    "        image = cv2.cvtColor(image, cv2.COLOR_RGB2BGR)        #OpenCV swaps the Red and Blue channels while reading images.\n",
    "        image_vf =  cv2.flip( image, 1 )                      #Vertically flipping images for data expansion\n",
    "        \n",
    "        \n",
    "        image_bw = image_bw.flatten()\n",
    "        \n",
    "        training_fruit_img.append(image)\n",
    "        training_fruit_img.append(image_vf)\n",
    "        training_fruit_img_bw.append(image_bw)\n",
    "        \n",
    "        training_label.append(img_label)\n",
    "        training_label.append(img_label)\n",
    "        training_label_bw.append(img_label)\n",
    "\n",
    "training_fruit_img = np.array(training_fruit_img)\n",
    "training_fruit_img_bw = np.array(training_fruit_img_bw)\n",
    "training_label = np.array(training_label)\n",
    "training_label_bw = np.array(training_label_bw)\n",
    "\n",
    "print(training_fruit_img.shape)\n",
    "print(training_fruit_img_bw.shape)"
   ]
  },
  {
   "cell_type": "code",
   "execution_count": 3,
   "metadata": {},
   "outputs": [
    {
     "data": {
      "text/plain": [
       "{0: 'Apple Braeburn',\n",
       " 1: 'Apple Golden 1',\n",
       " 2: 'Apple Golden 2',\n",
       " 3: 'Apple Golden 3',\n",
       " 4: 'Apple Granny Smith',\n",
       " 5: 'Apple Red 1',\n",
       " 6: 'Apple Red 2',\n",
       " 7: 'Apple Red 3',\n",
       " 8: 'Apple Red Delicious',\n",
       " 9: 'Apple Red Yellow',\n",
       " 10: 'Apricot',\n",
       " 11: 'Avocado',\n",
       " 12: 'Avocado ripe',\n",
       " 13: 'Banana',\n",
       " 14: 'Banana Red',\n",
       " 15: 'Cactus fruit',\n",
       " 16: 'Carambula',\n",
       " 17: 'Cherry',\n",
       " 18: 'Clementine',\n",
       " 19: 'Cocos',\n",
       " 20: 'Dates',\n",
       " 21: 'Granadilla',\n",
       " 22: 'Grape Pink',\n",
       " 23: 'Grape White',\n",
       " 24: 'Grape White 2',\n",
       " 25: 'Grapefruit Pink',\n",
       " 26: 'Grapefruit White',\n",
       " 27: 'Guava',\n",
       " 28: 'Huckleberry',\n",
       " 29: 'Kaki',\n",
       " 30: 'Kiwi',\n",
       " 31: 'Kumquats',\n",
       " 32: 'Lemon',\n",
       " 33: 'Lemon Meyer',\n",
       " 34: 'Limes',\n",
       " 35: 'Litchi',\n",
       " 36: 'Mandarine',\n",
       " 37: 'Mango',\n",
       " 38: 'Maracuja',\n",
       " 39: 'Nectarine',\n",
       " 40: 'Orange',\n",
       " 41: 'Papaya',\n",
       " 42: 'Passion Fruit',\n",
       " 43: 'Peach',\n",
       " 44: 'Peach Flat',\n",
       " 45: 'Pear',\n",
       " 46: 'Pear Abate',\n",
       " 47: 'Pear Monster',\n",
       " 48: 'Pear Williams',\n",
       " 49: 'Pepino',\n",
       " 50: 'Pineapple',\n",
       " 51: 'Pitahaya Red',\n",
       " 52: 'Plum',\n",
       " 53: 'Pomegranate',\n",
       " 54: 'Quince',\n",
       " 55: 'Raspberry',\n",
       " 56: 'Salak',\n",
       " 57: 'Strawberry',\n",
       " 58: 'Tamarillo',\n",
       " 59: 'Tangelo'}"
      ]
     },
     "execution_count": 3,
     "metadata": {},
     "output_type": "execute_result"
    }
   ],
   "source": [
    "label_to_id = {v:k for k,v in enumerate(np.unique(training_label)) }\n",
    "id_to_label = {v:k for k,v in label_to_id.items() }\n",
    "\n",
    "id_to_label"
   ]
  },
  {
   "cell_type": "code",
   "execution_count": 6,
   "metadata": {},
   "outputs": [
    {
     "data": {
      "text/plain": [
       "((57472,), (28736,))"
      ]
     },
     "execution_count": 6,
     "metadata": {},
     "output_type": "execute_result"
    }
   ],
   "source": [
    "training_label_id = np.array([label_to_id[i] for i in training_label])\n",
    "training_label_bw_id = np.array([label_to_id[i] for i in training_label_bw])\n",
    "\n",
    "training_label_id.shape, training_label_bw_id.shape"
   ]
  },
  {
   "cell_type": "code",
   "execution_count": 7,
   "metadata": {},
   "outputs": [
    {
     "data": {
      "text/plain": [
       "((164, 100, 100, 3), (164,))"
      ]
     },
     "execution_count": 7,
     "metadata": {},
     "output_type": "execute_result"
    }
   ],
   "source": [
    "validation_fruit_img=[]\n",
    "validation_label =[]\n",
    "\n",
    "for dir_path in glob.glob(\"/Users/piyushmetkar/Documents/SMU/Notes/Spring 18/7324 Machine Learning in Python/Lab 6/fruits-360/Validation/*\"):\n",
    "    img_label = dir_path.split(\"/\")[-1]\n",
    "# for dir_path in glob.glob(r'D:\\Downloads\\Notes\\CSE_7324_ML\\fruits-360_dataset_2018_02_08\\Validation\\*'):\n",
    "#     img_label = dir_path.split(\"\\\\\")[-1]\n",
    "\n",
    "for image_path in glob.glob(os.path.join(dir_path,\"*.jpg\")):\n",
    "        image = cv2.imread(image_path,cv2.IMREAD_COLOR)\n",
    "        image = cv2.resize(image, (IMAGE_SIZE, IMAGE_SIZE))\n",
    "        image = cv2.cvtColor(image, cv2.COLOR_RGB2BGR)\n",
    "        \n",
    "        validation_fruit_img.append(image)\n",
    "        validation_label.append(img_label)\n",
    "        \n",
    "validation_fruit_img = np.array(validation_fruit_img)\n",
    "validation_label = np.array(validation_label)\n",
    "\n",
    "validation_label_id = np.array([label_to_id[i] for i in validation_label])\n",
    "\n",
    "validation_fruit_img.shape,validation_label_id.shape"
   ]
  },
  {
   "cell_type": "code",
   "execution_count": 9,
   "metadata": {},
   "outputs": [
    {
     "name": "stdout",
     "output_type": "stream",
     "text": [
      "Original Sizes: (57472, 100, 100, 3) (164, 100, 100, 3) (57472, 60) (164, 60)\n",
      "Flattened: (57472, 30000) (164, 30000)\n"
     ]
    }
   ],
   "source": [
    "X_train,X_test = training_fruit_img,validation_fruit_img\n",
    "Y_train,Y_test =training_label_id,validation_label_id\n",
    "#mean(X) = np.mean(X_train)\n",
    "X_train = X_train/255\n",
    "X_test = X_test/255\n",
    "\n",
    "X_flat_train = X_train.reshape(X_train.shape[0],IMAGE_SIZE*IMAGE_SIZE*3)\n",
    "X_flat_test = X_test.reshape(X_test.shape[0],IMAGE_SIZE*IMAGE_SIZE*3)\n",
    "\n",
    "#One Hot Encode the Output\n",
    "Y_train = keras.utils.to_categorical(Y_train, 60)\n",
    "Y_test = keras.utils.to_categorical(Y_test, 60)\n",
    "\n",
    "print('Original Sizes:', X_train.shape, X_test.shape, Y_train.shape, Y_test.shape)\n",
    "print('Flattened:', X_flat_train.shape, X_flat_test.shape)"
   ]
  },
  {
   "cell_type": "code",
   "execution_count": 12,
   "metadata": {},
   "outputs": [
    {
     "name": "stdout",
     "output_type": "stream",
     "text": [
      "(100, 100, 3)\n"
     ]
    },
    {
     "data": {
      "image/png": "[encoded data removed]",
      "text/plain": [
       "<matplotlib.figure.Figure at 0x1368dff28>"
      ]
     },
     "metadata": {},
     "output_type": "display_data"
    },
    {
     "name": "stdout",
     "output_type": "stream",
     "text": [
      "Apple Red Delicious\n"
     ]
    }
   ],
   "source": [
    "print(X_train[500].shape)\n",
    "plt.imshow(X_train[500])\n",
    "\n",
    "plt.show()\n",
    "#print(Y_train[490])\n",
    "print(id_to_label[np.argmax(Y_train[500], axis=None, out=None)])\n"
   ]
  },
  {
   "cell_type": "code",
   "execution_count": 28,
   "metadata": {},
   "outputs": [],
   "source": [
    "class Metrics(Callback):\n",
    "    def on_train_begin(self, logs={}):\n",
    "        self.val_accs = []\n",
    "        self.val_f1s = []\n",
    "        self.val_recalls = []\n",
    "        self.val_precisions = []\n",
    "\n",
    "    def on_epoch_end(self, epoch, logs={}):\n",
    "        val_predict = (np.asarray(self.model.predict(self.validation_data[0]))).round()\n",
    "        val_targ = self.validation_data[1]\n",
    "        _val_acc = accuracy_score(val_targ, val_predict)\n",
    "        _val_f1 = f1_score(val_targ, val_predict, average='micro')\n",
    "        _val_recall = recall_score(val_targ, val_predict, average='micro')\n",
    "        _val_precision = precision_score(val_targ, val_predict, average='micro')\n",
    "        self.val_accs.append(_val_acc)\n",
    "        self.val_f1s.append(_val_f1)\n",
    "        self.val_recalls.append(_val_recall)\n",
    "        self.val_precisions.append(_val_precision)\n",
    "        print ('val_precision:', _val_precision)# — val_acc: %f — val_precision: %f — val_recall %f” %(_val_f1, _val_precision, _val_recall)\n",
    "        return\n",
    " \n",
    "metrics = Metrics()"
   ]
  },
  {
   "cell_type": "markdown",
   "metadata": {},
   "source": [
    "## 2.2 CNN Models\n",
    "\n",
    "### Model 1"
   ]
  },
  {
   "cell_type": "code",
   "execution_count": 27,
   "metadata": {},
   "outputs": [
    {
     "name": "stdout",
     "output_type": "stream",
     "text": [
      "_________________________________________________________________\n",
      "Layer (type)                 Output Shape              Param #   \n",
      "=================================================================\n",
      "conv2d_1 (Conv2D)            (None, 100, 100, 16)      448       \n",
      "_________________________________________________________________\n",
      "activation_7 (Activation)    (None, 100, 100, 16)      0         \n",
      "_________________________________________________________________\n",
      "batch_normalization_1 (Batch (None, 100, 100, 16)      64        \n",
      "_________________________________________________________________\n",
      "max_pooling2d_1 (MaxPooling2 (None, 50, 50, 16)        0         \n",
      "_________________________________________________________________\n",
      "flatten_1 (Flatten)          (None, 40000)             0         \n",
      "_________________________________________________________________\n",
      "dense_19 (Dense)             (None, 256)               10240256  \n",
      "_________________________________________________________________\n",
      "leaky_re_lu_1 (LeakyReLU)    (None, 256)               0         \n",
      "_________________________________________________________________\n",
      "dropout_1 (Dropout)          (None, 256)               0         \n",
      "_________________________________________________________________\n",
      "dense_20 (Dense)             (None, 60)                15420     \n",
      "_________________________________________________________________\n",
      "activation_8 (Activation)    (None, 60)                0         \n",
      "=================================================================\n",
      "Total params: 10,256,188\n",
      "Trainable params: 10,256,156\n",
      "Non-trainable params: 32\n",
      "_________________________________________________________________\n"
     ]
    }
   ],
   "source": [
    "model_1 = Sequential()\n",
    "model_1.add(Conv2D(16,(3,3),input_shape=(IMAGE_SIZE,IMAGE_SIZE,3),padding='same'))\n",
    "model_1.add(Activation(\"relu\"))\n",
    "model_1.add(BatchNormalization())\n",
    "model_1.add(MaxPooling2D(pool_size=(2,2)))\n",
    "\n",
    "model_1.add(Flatten())\n",
    "model_1.add(Dense(256,activation='elu'))\n",
    "model_1.add(LeakyReLU(0.1))\n",
    "model_1.add(Dropout(0.5))\n",
    "model_1.add(Dense(60))\n",
    "model_1.add(Activation(\"softmax\"))\n",
    "\n",
    "model_1.summary()"
   ]
  },
  {
   "cell_type": "code",
   "execution_count": null,
   "metadata": {},
   "outputs": [],
   "source": [
    "model_1.compile(loss='categorical_crossentropy',\n",
    "             optimizer = Adamax(),\n",
    "             metrics=['accuracy'])\n",
    "\n",
    "model_1.fit(X_train,\n",
    "          Y_train,\n",
    "          batch_size=128,\n",
    "          epochs=1,\n",
    "          verbose=1,\n",
    "          validation_data = (X_test,Y_test),\n",
    "          callbacks=[metrics]\n",
    "         )"
   ]
  },
  {
   "cell_type": "code",
   "execution_count": null,
   "metadata": {},
   "outputs": [],
   "source": [
    "import os\n",
    "\n",
    "for image_path in glob.glob(\"/Users/dhavalgogri/Downloads/fruits-360_dataset_2018_02_08/fruits-360/Training/*\"):\n",
    "    image_label = image_path.split(\"/\")[-1]\n",
    "    os.makedirs(\"/Users/dhavalgogri/Downloads/fruits-360_dataset_2018_02_08/fruits-360/new_dataset/\",image_label)\n",
    "    for image_path in glob.glob(os.path.join(image_path,\"*.jpg\")):\n",
    "        if \n",
    "        shutil.move(\"path/to/current/file.foo\", \"path/to/new/destination/for/file.foo\")"
   ]
  }
 ],
 "metadata": {
  "kernelspec": {
   "display_name": "Python 3",
   "language": "python",
   "name": "python3"
  },
  "language_info": {
   "codemirror_mode": {
    "name": "ipython",
    "version": 3
   },
   "file_extension": ".py",
   "mimetype": "text/x-python",
   "name": "python",
   "nbconvert_exporter": "python",
   "pygments_lexer": "ipython3",
   "version": "3.6.4"
  }
 },
 "nbformat": 4,
 "nbformat_minor": 2
}
