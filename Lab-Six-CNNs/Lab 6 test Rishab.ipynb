{
 "cells": [
  {
   "cell_type": "code",
   "execution_count": 15,
   "metadata": {},
   "outputs": [],
   "source": [
    "import numpy as np # linear algebra\n",
    "import pandas as pd # data processing, CSV file I/O (e.g. pd.read_csv)\n",
    "import keras \n",
    "import tensorflow as tf\n",
    "import matplotlib.pyplot as plt\n",
    "%matplotlib inline\n",
    "import cv2\n",
    "import glob\n",
    "import os"
   ]
  },
  {
   "cell_type": "code",
   "execution_count": 16,
   "metadata": {},
   "outputs": [],
   "source": [
    "training_fruit_img = []\n",
    "training_label = []\n",
    "for dir_path in glob.glob(\"/Users/piyushmetkar/Documents/SMU/Notes/Spring 18/7324 Machine Learning in Python/Lab 6/fruits-360/Training/*\"):\n",
    "    img_label = dir_path.split(\"/\")[-1]\n",
    "# for dir_path in glob.glob(r'D:\\Downloads\\Notes\\CSE_7324_ML\\fruits-360_dataset_2018_02_08\\Training\\*'):\n",
    "#     img_label = dir_path.split(\"\\\\\")[-1]\n",
    "    for image_path in glob.glob(os.path.join(dir_path,\"*.jpg\")):\n",
    "        image = cv2.imread(image_path,cv2.IMREAD_COLOR)\n",
    "        image = cv2.cvtColor(image, cv2.COLOR_RGB2BGR)\n",
    "        training_fruit_img.append(image)\n",
    "        training_label.append(img_label)\n",
    "training_fruit_img = np.array(training_fruit_img)\n",
    "training_label = np.array(training_label)"
   ]
  },
  {
   "cell_type": "code",
   "execution_count": 17,
   "metadata": {},
   "outputs": [],
   "source": [
    "label_to_id = {v:k for k,v in enumerate(np.unique(training_label)) }\n",
    "id_to_label = {v:k for k,v in label_to_id.items() }"
   ]
  },
  {
   "cell_type": "code",
   "execution_count": 18,
   "metadata": {},
   "outputs": [
    {
     "data": {
      "text/plain": [
       "{0: 'Apple Braeburn',\n",
       " 1: 'Apple Golden 1',\n",
       " 2: 'Apple Golden 2',\n",
       " 3: 'Apple Golden 3',\n",
       " 4: 'Apple Granny Smith',\n",
       " 5: 'Apple Red 1',\n",
       " 6: 'Apple Red 2',\n",
       " 7: 'Apple Red 3',\n",
       " 8: 'Apple Red Delicious',\n",
       " 9: 'Apple Red Yellow',\n",
       " 10: 'Apricot',\n",
       " 11: 'Avocado',\n",
       " 12: 'Avocado ripe',\n",
       " 13: 'Banana',\n",
       " 14: 'Banana Red',\n",
       " 15: 'Cactus fruit',\n",
       " 16: 'Carambula',\n",
       " 17: 'Cherry',\n",
       " 18: 'Clementine',\n",
       " 19: 'Cocos',\n",
       " 20: 'Dates',\n",
       " 21: 'Granadilla',\n",
       " 22: 'Grape Pink',\n",
       " 23: 'Grape White',\n",
       " 24: 'Grape White 2',\n",
       " 25: 'Grapefruit Pink',\n",
       " 26: 'Grapefruit White',\n",
       " 27: 'Guava',\n",
       " 28: 'Huckleberry',\n",
       " 29: 'Kaki',\n",
       " 30: 'Kiwi',\n",
       " 31: 'Kumquats',\n",
       " 32: 'Lemon',\n",
       " 33: 'Lemon Meyer',\n",
       " 34: 'Limes',\n",
       " 35: 'Litchi',\n",
       " 36: 'Mandarine',\n",
       " 37: 'Mango',\n",
       " 38: 'Maracuja',\n",
       " 39: 'Nectarine',\n",
       " 40: 'Orange',\n",
       " 41: 'Papaya',\n",
       " 42: 'Passion Fruit',\n",
       " 43: 'Peach',\n",
       " 44: 'Peach Flat',\n",
       " 45: 'Pear',\n",
       " 46: 'Pear Abate',\n",
       " 47: 'Pear Monster',\n",
       " 48: 'Pear Williams',\n",
       " 49: 'Pepino',\n",
       " 50: 'Pineapple',\n",
       " 51: 'Pitahaya Red',\n",
       " 52: 'Plum',\n",
       " 53: 'Pomegranate',\n",
       " 54: 'Quince',\n",
       " 55: 'Raspberry',\n",
       " 56: 'Salak',\n",
       " 57: 'Strawberry',\n",
       " 58: 'Tamarillo',\n",
       " 59: 'Tangelo'}"
      ]
     },
     "execution_count": 18,
     "metadata": {},
     "output_type": "execute_result"
    }
   ],
   "source": [
    "id_to_label"
   ]
  },
  {
   "cell_type": "code",
   "execution_count": 19,
   "metadata": {},
   "outputs": [],
   "source": [
    "training_label_id = np.array([label_to_id[i] for i in training_label])"
   ]
  },
  {
   "cell_type": "code",
   "execution_count": 20,
   "metadata": {},
   "outputs": [
    {
     "data": {
      "text/plain": [
       "array([ 8,  8,  8, ..., 44, 44, 44])"
      ]
     },
     "execution_count": 20,
     "metadata": {},
     "output_type": "execute_result"
    }
   ],
   "source": [
    "training_label_id"
   ]
  },
  {
   "cell_type": "code",
   "execution_count": 21,
   "metadata": {},
   "outputs": [
    {
     "data": {
      "text/plain": [
       "((28736, 100, 100, 3), (28736,))"
      ]
     },
     "execution_count": 21,
     "metadata": {},
     "output_type": "execute_result"
    }
   ],
   "source": [
    "training_fruit_img.shape,training_label_id.shape"
   ]
  },
  {
   "cell_type": "code",
   "execution_count": 23,
   "metadata": {},
   "outputs": [],
   "source": [
    "validation_fruit_image=[]\n",
    "validation_label =[]\n",
    "for dir_path in glob.glob(\"/Users/piyushmetkar/Documents/SMU/Notes/Spring 18/7324 Machine Learning in Python/Lab 6/fruits-360/Validation/*\"):\n",
    "    img_label = dir_path.split(\"/\")[-1]\n",
    "# for dir_path in glob.glob(r'D:\\Downloads\\Notes\\CSE_7324_ML\\fruits-360_dataset_2018_02_08\\Validation\\*'):\n",
    "#     img_label = dir_path.split(\"\\\\\")[-1]\n",
    "\n",
    "    for img_path in glob.glob(os.path.join(dir_path,\"*.jpg\")):\n",
    "        image = cv2.imread(image_path,cv2.IMREAD_COLOR)\n",
    "        image = cv2.cvtColor(image, cv2.COLOR_RGB2BGR)\n",
    "        validation_fruit_image.append(image)\n",
    "        validation_label.append(img_label)\n",
    "validation_fruit_img = np.array(validation_fruit_image)\n",
    "validation_label = np.array(validation_label)"
   ]
  },
  {
   "cell_type": "code",
   "execution_count": 24,
   "metadata": {},
   "outputs": [],
   "source": [
    "validation_label_id = np.array([label_to_id[i] for i in validation_label])"
   ]
  },
  {
   "cell_type": "code",
   "execution_count": 25,
   "metadata": {},
   "outputs": [
    {
     "data": {
      "text/plain": [
       "((9673, 100, 100, 3), (9673,))"
      ]
     },
     "execution_count": 25,
     "metadata": {},
     "output_type": "execute_result"
    }
   ],
   "source": [
    "validation_fruit_img.shape,validation_label_id.shape"
   ]
  },
  {
   "cell_type": "code",
   "execution_count": 26,
   "metadata": {},
   "outputs": [
    {
     "name": "stdout",
     "output_type": "stream",
     "text": [
      "Original Sizes: (28736, 100, 100, 3) (9673, 100, 100, 3) (28736, 60) (9673, 60)\n",
      "Flattened: (28736, 30000) (9673, 30000)\n"
     ]
    }
   ],
   "source": [
    "X_train,X_test = training_fruit_img,validation_fruit_img\n",
    "Y_train,Y_test =training_label_id,validation_label_id\n",
    "#mean(X) = np.mean(X_trai\n",
    "X_train = X_train/255\n",
    "X_test = X_test/255\n",
    "\n",
    "X_flat_train = X_train.reshape(X_train.shape[0],100*100*3)\n",
    "X_flat_test = X_test.reshape(X_test.shape[0],100*100*3)\n",
    "\n",
    "#One Hot Encode the Output\n",
    "Y_train = keras.utils.to_categorical(Y_train, 60)\n",
    "Y_test = keras.utils.to_categorical(Y_test, 60)\n",
    "\n",
    "print('Original Sizes:', X_train.shape, X_test.shape, Y_train.shape, Y_test.shape)\n",
    "print('Flattened:', X_flat_train.shape, X_flat_test.shape)"
   ]
  },
  {
   "cell_type": "code",
   "execution_count": 29,
   "metadata": {},
   "outputs": [
    {
     "name": "stdout",
     "output_type": "stream",
     "text": [
      "(100, 100, 3)\n"
     ]
    },
    {
     "data": {
      "image/png": "[encoded data removed]",
      "text/plain": [
       "<matplotlib.figure.Figure at 0x1064bc208>"
      ]
     },
     "metadata": {},
     "output_type": "display_data"
    },
    {
     "name": "stdout",
     "output_type": "stream",
     "text": [
      "[0. 0. 0. 0. 0. 0. 0. 0. 1. 0. 0. 0. 0. 0. 0. 0. 0. 0. 0. 0. 0. 0. 0. 0.\n",
      " 0. 0. 0. 0. 0. 0. 0. 0. 0. 0. 0. 0. 0. 0. 0. 0. 0. 0. 0. 0. 0. 0. 0. 0.\n",
      " 0. 0. 0. 0. 0. 0. 0. 0. 0. 0. 0. 0.]\n"
     ]
    }
   ],
   "source": [
    "print(X_train[0].shape)\n",
    "plt.imshow(X_train[0])\n",
    "plt.show()\n",
    "print(Y_train[0])\n"
   ]
  },
  {
   "cell_type": "code",
   "execution_count": null,
   "metadata": {},
   "outputs": [],
   "source": [
    "from keras.models import Sequential,Model\n",
    "from keras.layers import Dense,Dropout,Conv2D,MaxPooling2D,Flatten,Activation,BatchNormalization\n",
    "from keras.optimizers import Adamax\n",
    "from keras.layers.advanced_activations import LeakyReLU\n",
    "from keras import backend as K"
   ]
  },
  {
   "cell_type": "code",
   "execution_count": null,
   "metadata": {},
   "outputs": [],
   "source": [
    "model = Sequential()\n",
    "model.add(Conv2D(16,(3,3),input_shape=(100,100,3),padding='same'))\n",
    "model.add(LeakyReLU(0.5))\n",
    "model.add(BatchNormalization())\n",
    "model.add(MaxPooling2D(pool_size=(4,4)))\n",
    "\n",
    "\"\"\"\n",
    "model.add(Conv2D(32,(3,3),padding='same'))\n",
    "model.add(LeakyReLU(0.5))\n",
    "model.add(BatchNormalization())\n",
    "model.add(MaxPooling2D(pool_size=(2,2)))\n",
    "model.add(Dropout(0.25))\n",
    "\n",
    "\n",
    "model.add(Conv2D(32,(3,3),padding='same'))\n",
    "model.add(LeakyReLU(0.5))\n",
    "model.add(BatchNormalization())\n",
    "model.add(MaxPooling2D(pool_size=(2,2)))\n",
    "\n",
    "model.add(Conv2D(64,(3,3),padding='same'))\n",
    "model.add(LeakyReLU(0.5))\n",
    "model.add(BatchNormalization())\n",
    "model.add(MaxPooling2D(pool_size=(2,2)))\n",
    "\"\"\"\n",
    "\n",
    "model.add(Flatten())\n",
    "model.add(Dense(256,activation='elu'))\n",
    "#model.add(LeakyReLU(0.1))\n",
    "model.add(Dropout(0.5))\n",
    "model.add(Dense(60))\n",
    "model.add(Activation(\"softmax\"))\n",
    "\n",
    "model.summary()"
   ]
  },
  {
   "cell_type": "code",
   "execution_count": null,
   "metadata": {},
   "outputs": [],
   "source": [
    "model.compile(loss='categorical_crossentropy',\n",
    "             optimizer = Adamax(),\n",
    "             metrics=['accuracy'])\n",
    "\n",
    "model.fit(X_train,\n",
    "          Y_train,\n",
    "          batch_size=128,\n",
    "          epochs=10,\n",
    "          verbose=1,\n",
    "          validation_data = (X_test,Y_test)\n",
    "         )"
   ]
  },
  {
   "cell_type": "code",
   "execution_count": null,
   "metadata": {},
   "outputs": [],
   "source": [
    "score = model.evaluate(X_test, Y_test, verbose=0)\n",
    "print('Test loss:', score[0])\n",
    "print('Test accuracy:', score[1])"
   ]
  },
  {
   "cell_type": "code",
   "execution_count": null,
   "metadata": {},
   "outputs": [],
   "source": []
  },
  {
   "cell_type": "code",
   "execution_count": null,
   "metadata": {},
   "outputs": [],
   "source": []
  }
 ],
 "metadata": {
  "kernelspec": {
   "display_name": "Python 3",
   "language": "python",
   "name": "python3"
  },
  "language_info": {
   "codemirror_mode": {
    "name": "ipython",
    "version": 3
   },
   "file_extension": ".py",
   "mimetype": "text/x-python",
   "name": "python",
   "nbconvert_exporter": "python",
   "pygments_lexer": "ipython3",
   "version": "3.6.4"
  }
 },
 "nbformat": 4,
 "nbformat_minor": 2
}
