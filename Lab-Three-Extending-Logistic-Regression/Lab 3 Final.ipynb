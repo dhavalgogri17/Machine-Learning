{
 "cells": [
  {
   "cell_type": "markdown",
   "metadata": {},
   "source": [
    "# Lab Assignment Three: Extending Logistic Regression\n",
    "\n",
    "## Team Members\n",
    "1. Piyush Metkar  - 47509180\n",
    "2. Rishab Vaishya - 47505527\n",
    "3. Dhaval Gogri   - 47444609\n",
    "\n",
    "\n",
    "# 1. PREPARATION AND OVERVIEW\n",
    "\n",
    "## 1.1 Business Understanding\n",
    "\n",
    "The dataset **Grade Prediction** is taken from the Professor Moody Prediction dataset and it is about the behaviour of students and their grades they received in his class. Professor Moody observed various behavioural aspects of his students such as how much involvement they have in the class, how punctual are they and how much focus they had in the class. He quantified these aspects as 'never', 'rarely', 'always', etc.. He also added their grades to observe what impact their behaviour had on them. The dataset has a file with around 1000 instances.\n",
    "\n",
    "The source of the dataset is as follows: https://www.kaggle.com/c/grade-prediction\n",
    "\n",
    "The aim of this project is to predict the academic performance of students and **classify** them as per grades depending on their behaviour in class. The target class of this dataset is **Grades** column which is categorized in values A, B, C, D and F. \n",
    "\n",
    "We all know how much important the role of education is in the society. Analyzing some of the behavioral patterns of a student can help us gain an insight on their **academic performance of the future**. This information can be useful for faculty members to identify student which needs extra help with the course. It can be useful for parents who can predict how well their child is expected to perform in their academics. Students themseleves can also analyze their behavior and implement changes in order to increase their success chances.\n",
    "\n",
    "On a broader level, It is useful for the university to know how their students are likely to behave & their competance against students of other universities. Since education is a vital part of the society in order to successfully mould the next generation of people. \n",
    "\n",
    "Many curious questions can be answered like reason for a students poor performance even after 100% attandance in the class. Percentage of people who manage to score good grades even after bunking a lot of lectures. Why do people score less even after clearing their doubts from professor. The results may not be what we generally assume.\n",
    "\n",
    "Based on the analysis and predictin of this data, Universities may also impose some restrictions and help students become successful in academics, for example not allowing the use of cell phones during lectures to help them concentrate on lectures and understand the important concepts.\n",
    "\n",
    "Assuming human behaviour is more or less consistent in majority of societies & times. These predictions can be scaled to different regions and also can be used in the coming future.\n",
    "\n",
    "## 1.2 Data Preparation \n"
   ]
  },
  {
   "cell_type": "code",
   "execution_count": 53,
   "metadata": {},
   "outputs": [
    {
     "data": {
      "text/html": [
       "<div>\n",
       "<style scoped>\n",
       "    .dataframe tbody tr th:only-of-type {\n",
       "        vertical-align: middle;\n",
       "    }\n",
       "\n",
       "    .dataframe tbody tr th {\n",
       "        vertical-align: top;\n",
       "    }\n",
       "\n",
       "    .dataframe thead th {\n",
       "        text-align: right;\n",
       "    }\n",
       "</style>\n",
       "<table border=\"1\" class=\"dataframe\">\n",
       "  <thead>\n",
       "    <tr style=\"text-align: right;\">\n",
       "      <th></th>\n",
       "      <th>STUDENTID</th>\n",
       "      <th>SCORE</th>\n",
       "      <th>GRADE</th>\n",
       "      <th>ASKSQUESTIONS</th>\n",
       "      <th>TEXTINGINCLASS</th>\n",
       "      <th>LATEINCLASS</th>\n",
       "    </tr>\n",
       "  </thead>\n",
       "  <tbody>\n",
       "    <tr>\n",
       "      <th>0</th>\n",
       "      <td>65446</td>\n",
       "      <td>23.67</td>\n",
       "      <td>D</td>\n",
       "      <td>never</td>\n",
       "      <td>always</td>\n",
       "      <td>never</td>\n",
       "    </tr>\n",
       "    <tr>\n",
       "      <th>1</th>\n",
       "      <td>79686</td>\n",
       "      <td>8.41</td>\n",
       "      <td>F</td>\n",
       "      <td>never</td>\n",
       "      <td>never</td>\n",
       "      <td>rarely</td>\n",
       "    </tr>\n",
       "    <tr>\n",
       "      <th>2</th>\n",
       "      <td>56400</td>\n",
       "      <td>69.76</td>\n",
       "      <td>C</td>\n",
       "      <td>never</td>\n",
       "      <td>always</td>\n",
       "      <td>rarely</td>\n",
       "    </tr>\n",
       "    <tr>\n",
       "      <th>3</th>\n",
       "      <td>16792</td>\n",
       "      <td>95.51</td>\n",
       "      <td>A</td>\n",
       "      <td>never</td>\n",
       "      <td>always</td>\n",
       "      <td>always</td>\n",
       "    </tr>\n",
       "    <tr>\n",
       "      <th>4</th>\n",
       "      <td>92195</td>\n",
       "      <td>67.12</td>\n",
       "      <td>B</td>\n",
       "      <td>frequently</td>\n",
       "      <td>sometimes</td>\n",
       "      <td>never</td>\n",
       "    </tr>\n",
       "  </tbody>\n",
       "</table>\n",
       "</div>"
      ],
      "text/plain": [
       "   STUDENTID  SCORE GRADE ASKSQUESTIONS TEXTINGINCLASS LATEINCLASS\n",
       "0      65446  23.67     D         never         always       never\n",
       "1      79686   8.41     F         never          never      rarely\n",
       "2      56400  69.76     C         never         always      rarely\n",
       "3      16792  95.51     A         never         always      always\n",
       "4      92195  67.12     B    frequently      sometimes       never"
      ]
     },
     "execution_count": 53,
     "metadata": {},
     "output_type": "execute_result"
    }
   ],
   "source": [
    "import pandas as pd\n",
    "import numpy as np\n",
    "\n",
    "df = pd.read_csv('file:///Users/piyushmetkar/Documents/SMU/Notes/Spring 18/7324 Machine Learning in Python/Lab 3/moody_training_data.csv') \n",
    "\n",
    "df.head()"
   ]
  },
  {
   "cell_type": "markdown",
   "metadata": {},
   "source": [
    "We import the CSV data file into pandas dataframe object. We will extract the values of columns from df into numpy arrays required for classification.\n",
    "\n",
    "The grades column is categorized as A, B, C, D and F as per the value of scores. We don't need the exact values of thier scores rather we are interested in grades. Hence we do not include the Score and StudentID columns.\n",
    "\n",
    "The behaviour of the students such as do they use phones, do they ask questions and are they punctual are quantified in words 'never', 'sometimes', 'rarely', 'frequently' and 'always'. Based on their meaning, we can compare the words as follows since they are **ordinal**:\n",
    "\n",
    "never < sometimes/rarely < frequently < always\n",
    "\n",
    "Hence we replace these values with integers. \n",
    "\n",
    "We also replace all the grades in target class which is also of type **ordinal** with integers. Grades A, B, C, D and F are replaced by 0, 1, 2, 3 and 4 repectively. This will also help us to compare the grade.\n",
    "\n",
    "Our dataset has only 3 features and hence we don't need to perform any dimensionality reduction technique on it. Also our data doesn't have any missing values."
   ]
  },
  {
   "cell_type": "code",
   "execution_count": 54,
   "metadata": {},
   "outputs": [
    {
     "name": "stdout",
     "output_type": "stream",
     "text": [
      "(998, 3)\n",
      "(998,)\n"
     ]
    }
   ],
   "source": [
    "df['ASKSQUESTIONS'].replace(['never', 'rarely', 'sometimes', 'frequently', 'always'], [0, 1, 1, 2, 3],inplace=True)\n",
    "df['TEXTINGINCLASS'].replace(['never', 'rarely', 'sometimes', 'frequently', 'always'], [0, 1, 1, 2, 3],inplace=True)\n",
    "df['LATEINCLASS'].replace(['never', 'rarely', 'sometimes', 'frequently', 'always'], [0, 1, 1, 2, 3],inplace=True)\n",
    "df['GRADE'].replace(['A', 'B', 'C', 'D', 'F'], [0, 1, 2, 3, 4],inplace=True)\n",
    "\n",
    "#ref : https://www.shanelynn.ie/select-pandas-dataframe-rows-and-columns-using-iloc-loc-and-ix/\n",
    "X = df.iloc[:, [3, 4, 5]].values\n",
    "y = df['GRADE'].values\n",
    "class_names = np.asarray(['A', 'B', 'C', 'D', 'F']) \n",
    "\n",
    "print(X.shape)\n",
    "print(y.shape)"
   ]
  },
  {
   "cell_type": "markdown",
   "metadata": {},
   "source": [
    "The final dataset contains 3 columns ASKSQUESTIONS, TEXTINGINCLASS and LATEINCLASS and have removed redundant columns. We have replaced all the ordinal values with integers. There are around 1000 instances present in the data.\n",
    "\n",
    "## 1.3 Data division\n",
    "Let's divide the data in **80:20** ratio, 80% being training data and 20% being test data.\n",
    "\n",
    "### Cross Validation\n",
    "However, in order to divide the data, we need to make sure that the results are not biased in any cluster and it is consistent throughout the dataset. We are using **K Fold Cross-Validation** technique to verify the consistency in data.\n",
    "\n",
    "The following algorithm works by dividing the dataset in **K=5** parts. For each iteration, 1 part becomes the test set and the remaining 4 parts become the train set. We create a new model for each iteration by using these 4 parts of the train set and thus verify it against the current test set."
   ]
  },
  {
   "cell_type": "code",
   "execution_count": 55,
   "metadata": {
    "scrolled": true
   },
   "outputs": [
    {
     "name": "stdout",
     "output_type": "stream",
     "text": [
      "Accuracy :  0.41\n",
      "Accuracy :  0.43\n",
      "Accuracy :  0.42\n",
      "Accuracy :  0.457286432160804\n",
      "Accuracy :  0.507537688442211\n",
      "\n",
      "Average : 0.444964824120603\n"
     ]
    }
   ],
   "source": [
    "from sklearn.model_selection import KFold # import KFold\n",
    "from sklearn import linear_model\n",
    "from sklearn.metrics import accuracy_score\n",
    "\n",
    "#ref: https://towardsdatascience.com/train-test-split-and-cross-validation-in-python-80b61beca4b6\n",
    "\n",
    "kf = KFold(n_splits=5) # Define the split - into 5 folds\n",
    "\n",
    "lm = linear_model.LinearRegression()\n",
    "sum = 0\n",
    "\n",
    "for train_index, test_index in kf.split(X):\n",
    "    \n",
    "    Xk_train, Xk_test = X[train_index], X[test_index]\n",
    "    yk_train, yk_test = y[train_index], y[test_index]\n",
    "    \n",
    "    model = lm.fit(Xk_train, yk_train)\n",
    "    yk_hat = lm.predict(Xk_test)\n",
    "    acc = accuracy_score(yk_test,yk_hat.astype(int))\n",
    "    print('Accuracy : ', acc)\n",
    "    sum += acc \n",
    "\n",
    "print('\\nAverage :', sum/5)\n",
    " \n"
   ]
  },
  {
   "cell_type": "markdown",
   "metadata": {},
   "source": [
    "As we can see, all the iterations have very similar accuracy. This proves that the data is consistent throughout and hence we can split the data in to 80:20 ratio for test purposes. "
   ]
  },
  {
   "cell_type": "code",
   "execution_count": 56,
   "metadata": {},
   "outputs": [
    {
     "name": "stdout",
     "output_type": "stream",
     "text": [
      "X_train: (798, 3)\n",
      "y_train: (798,)\n",
      "X_test: (200, 3)\n",
      "y_test: (200,)\n"
     ]
    }
   ],
   "source": [
    "\n",
    "# ref: http://scikit-learn.org/stable/modules/generated/sklearn.model_selection.train_test_split.html#sklearn.model_selection.train_test_split\n",
    "from sklearn.model_selection import train_test_split\n",
    "X_train, X_test, y_train, y_test = train_test_split(X, y, test_size=0.20)\n",
    "\n",
    "print('X_train:', X_train.shape)\n",
    "print('y_train:', y_train.shape)\n",
    "print('X_test:', X_test.shape)\n",
    "print('y_test:', y_test.shape)"
   ]
  },
  {
   "cell_type": "markdown",
   "metadata": {},
   "source": [
    "# 2. MODELING\n",
    "\n",
    "## 2.1 Implementing Logistic Regression\n",
    "\n",
    "Now that we have cleansed and prepared our dataset, It is ready for implementing Logistic regression. In the following code, We have created many types of binary logistic regression class which will be used in their multi-class regression implementation.\n",
    "\n",
    "Source for the follwing code :- https://github.com/eclarson/MachineLearningNotebooks/blob/master/05.%20Logistic%20Regression.ipynb\n",
    "\n",
    "## Vector Binary Logistic Regression\n",
    "\n",
    "This class for vector Binary logistic regression is defined below.\n",
    "\n",
    "It has the following function :\n",
    "1. private init\n",
    "2. static add_bias\n",
    "3. public predict_proba\n",
    "4. predict\n",
    "5. private str\n",
    "6. public fit\n",
    "7. static sigmoid - this using the expit function which is imported in this block\n",
    "8. get_gradient"
   ]
  },
  {
   "cell_type": "code",
   "execution_count": 57,
   "metadata": {},
   "outputs": [],
   "source": [
    "import numpy as np\n",
    "from scipy.special import expit\n",
    "from sklearn.metrics import accuracy_score\n",
    "\n",
    "class VectorBinaryLogisticRegression:\n",
    "    # private:\n",
    "    def __init__(self, eta, iterations=20):\n",
    "        self.eta = eta\n",
    "        self.iters = iterations\n",
    "        # internally we will store the weights as self.w_ to keep with sklearn conventions\n",
    "    \n",
    "    @staticmethod\n",
    "    def _add_bias(X):\n",
    "        return np.hstack((np.ones((X.shape[0],1)),X)) # add bias term\n",
    "    \n",
    "    # public:\n",
    "    def predict_proba(self,X,add_bias=True):\n",
    "        # add bias term if requested\n",
    "        Xb = self._add_bias(X) if add_bias else X\n",
    "        return self._sigmoid(Xb @ self.w_) # return the probability y=1\n",
    "    \n",
    "    def predict(self,X):\n",
    "        return (self.predict_proba(X)>0.5) #return the actual prediction\n",
    "    \n",
    " \n",
    "     #private:\n",
    "    def __str__(self):\n",
    "        if(hasattr(self,'w_')):\n",
    "            return 'Binary Logistic Regression Object with coefficients:\\n'+ str(self.w_) # is we have trained the object\n",
    "        else:\n",
    "            return 'Untrained Binary Logistic Regression Object'\n",
    "        \n",
    "       \n",
    "    # public:\n",
    "    def fit(self, X, y):\n",
    "        Xb = self._add_bias(X) # add bias term\n",
    "        num_samples, num_features = Xb.shape\n",
    "        \n",
    "        self.w_ = np.zeros((num_features,1)) # init weight vector to zeros\n",
    "        \n",
    "        # for as many as the max iterations\n",
    "        for _ in range(self.iters):\n",
    "            gradient = self._get_gradient(Xb,y)\n",
    "            self.w_ += gradient*self.eta # multiply by learning rate \n",
    "\n",
    "            \n",
    "    # inherit from our previous class to get same functionality\n",
    "    @staticmethod\n",
    "    def _sigmoid(theta):\n",
    "        # increase stability, redefine sigmoid operation\n",
    "        return expit(theta) #1/(1+np.exp(-theta))\n",
    "    \n",
    "    # but overwrite the gradient calculation\n",
    "    def _get_gradient(self,X,y):\n",
    "        ydiff = y-self.predict_proba(X,add_bias=False).ravel() # get y difference\n",
    "        gradient = np.mean(X * ydiff[:,np.newaxis], axis=0) # make ydiff a column vector and multiply through\n",
    "        return gradient.reshape(self.w_.shape)\n",
    "            \n"
   ]
  },
  {
   "cell_type": "markdown",
   "metadata": {},
   "source": [
    "## Multi-class Logistic Regression using Vector Binary Logistic Regression\n",
    "\n",
    "Here in LogisticRegression class defined below, we are using the Vector Logistic Regression class which are used for binary class and running it for each unique classes in the datasets (which in our case is the grades) in order to implement it for multi-class using **one-versus-all** method.\n",
    "\n",
    "It has the following functions :\n",
    "1. private init\n",
    "2. private str\n",
    "3. public fit\n",
    "4. public predict_proba\n",
    "5. predict\n",
    "\n",
    "we are creating the object of this class at the bottom of this block and put our dataset into the model."
   ]
  },
  {
   "cell_type": "code",
   "execution_count": 58,
   "metadata": {},
   "outputs": [
    {
     "name": "stdout",
     "output_type": "stream",
     "text": [
      "MultiClass Logistic Regression Object with coefficients:\n",
      "[[-0.87998841  0.31613403 -0.63841979 -0.45318077]\n",
      " [-0.66946037  0.2254335  -0.28230821 -0.19574956]\n",
      " [-0.08035863 -0.67026008  0.10425792 -0.3120305 ]\n",
      " [-0.6181635  -0.5091668  -0.28173579 -0.05065689]\n",
      " [-0.77271206 -0.32667687 -0.35974249 -0.03898311]]\n",
      "Accuracy of:  0.44288577154308617\n",
      "CPU times: user 26.4 ms, sys: 234 µs, total: 26.6 ms\n",
      "Wall time: 26.6 ms\n"
     ]
    }
   ],
   "source": [
    "%%time\n",
    "\n",
    "class LogisticRegression:\n",
    "    def __init__(self, eta, iterations=20):\n",
    "        self.eta = eta\n",
    "        self.iters = iterations\n",
    "        # internally we will store the weights as self.w_ to keep with sklearn conventions\n",
    "    \n",
    "    def __str__(self):\n",
    "        if(hasattr(self,'w_')):\n",
    "            return 'MultiClass Logistic Regression Object with coefficients:\\n'+ str(self.w_) # is we have trained the object\n",
    "        else:\n",
    "            return 'Untrained MultiClass Logistic Regression Object'\n",
    "        \n",
    "    def fit(self,X,y):\n",
    "        num_samples, num_features = X.shape\n",
    "        self.unique_ = np.unique(y) # get each unique class value\n",
    "        num_unique_classes = len(self.unique_)\n",
    "        self.classifiers_ = [] # will fill this array with binary classifiers\n",
    "        \n",
    "        for i,yval in enumerate(self.unique_): # for each unique value\n",
    "            y_binary = y==yval # create a binary problem\n",
    "            # train the binary classifier for this class\n",
    "            blr = VectorBinaryLogisticRegression(self.eta,self.iters)\n",
    "            blr.fit(X,y_binary)\n",
    "            # add the trained classifier to the list\n",
    "            self.classifiers_.append(blr)\n",
    "            \n",
    "        # save all the weights into one matrix, separate column for each class\n",
    "        self.w_ = np.hstack([x.w_ for x in self.classifiers_]).T\n",
    "        \n",
    "    def predict_proba(self,X):\n",
    "        probs = []\n",
    "        for blr in self.classifiers_:\n",
    "            probs.append(blr.predict_proba(X)) # get probability for each classifier\n",
    "        \n",
    "        return np.hstack(probs) # make into single matrix\n",
    "    \n",
    "    def predict(self,X):\n",
    "        return np.argmax(self.predict_proba(X),axis=1) # take argmax along row\n",
    "    \n",
    "\n",
    "lr = LogisticRegression(0.1,100)\n",
    "lr.fit(X,y)\n",
    "print(lr)\n",
    "\n",
    "yhat = lr.predict(X)\n",
    "print('Accuracy of: ',accuracy_score(y,yhat))"
   ]
  },
  {
   "cell_type": "markdown",
   "metadata": {},
   "source": [
    "here we see that Multi-class Logistic Regression using Vector Binary Logistic Regression took 32.3 Seconds to execute and gives us an accuracy of 43.68 %\n",
    "\n",
    "## 2.1.1 Optimized Logistic Regression\n",
    "\n",
    "The following class will be used to optimize logistic regression and use it for datasets with multi unique classes.\n",
    "\n",
    "Source for the follwing code :- https://github.com/eclarson/MachineLearningNotebooks/blob/master/06.%20Optimization.ipynb\n",
    " \n",
    "## Binary Logistic Regression Base Class\n",
    " \n",
    "This is the **base class** for all the following classes which will help us in optimizing logistic regression implementation\n",
    " \n",
    "It has the following function :\n",
    "1. private init\n",
    "2. private str\n",
    "3. static add_bias\n",
    "4. static sigmoid - this using the expit function which is imported in this block\n",
    "5. get_gradient\n",
    "6. public predict_proba\n",
    "7. predict\n",
    "8. public fit\n"
   ]
  },
  {
   "cell_type": "code",
   "execution_count": 59,
   "metadata": {},
   "outputs": [
    {
     "name": "stdout",
     "output_type": "stream",
     "text": [
      "CPU times: user 56 µs, sys: 1 µs, total: 57 µs\n",
      "Wall time: 63.2 µs\n"
     ]
    }
   ],
   "source": [
    "%%time\n",
    "# from last time, our logistic regression algorithm is given by (including everything we previously had):\n",
    "class BinaryLogisticRegression:\n",
    "    def __init__(self, eta, iterations=20, C=0.001):\n",
    "        self.eta = eta\n",
    "        self.iters = iterations\n",
    "        self.C = C\n",
    "        # internally we will store the weights as self.w_ to keep with sklearn conventions\n",
    "        \n",
    "    def __str__(self):\n",
    "        if(hasattr(self,'w_')):\n",
    "            return 'Binary Logistic Regression Object with coefficients:\\n'+ str(self.w_) # is we have trained the object\n",
    "        else:\n",
    "            return 'Untrained Binary Logistic Regression Object'\n",
    "        \n",
    "    # convenience, private:\n",
    "    @staticmethod\n",
    "    def _add_bias(X):\n",
    "        return np.hstack((np.ones((X.shape[0],1)),X)) # add bias term\n",
    "    \n",
    "    @staticmethod\n",
    "    def _sigmoid(theta):\n",
    "        # increase stability, redefine sigmoid operation\n",
    "        return expit(theta) #1/(1+np.exp(-theta))\n",
    "    \n",
    "    # vectorized gradient calculation with regularization using L2 Norm\n",
    "    def _get_gradient(self,X,y):\n",
    "        ydiff = y-self.predict_proba(X,add_bias=False).ravel() # get y difference\n",
    "        gradient = np.mean(X * ydiff[:,np.newaxis], axis=0) # make ydiff a column vector and multiply through\n",
    "        \n",
    "        gradient = gradient.reshape(self.w_.shape)\n",
    "        gradient[1:] += -2 * self.w_[1:] * self.C\n",
    "        \n",
    "        return gradient\n",
    "    \n",
    "    # public:\n",
    "    def predict_proba(self,X,add_bias=True):\n",
    "        # add bias term if requested\n",
    "        Xb = self._add_bias(X) if add_bias else X\n",
    "        return self._sigmoid(Xb @ self.w_) # return the probability y=1\n",
    "    \n",
    "    def predict(self,X):\n",
    "        return (self.predict_proba(X)>0.5) #return the actual prediction\n",
    "    \n",
    "    \n",
    "    def fit(self, X, y):\n",
    "        Xb = self._add_bias(X) # add bias term\n",
    "        num_samples, num_features = Xb.shape\n",
    "        \n",
    "        self.w_ = np.zeros((num_features,1)) # init weight vector to zeros\n",
    "        \n",
    "        # for as many as the max iterations\n",
    "        for _ in range(self.iters):\n",
    "            gradient = self._get_gradient(Xb,y)\n",
    "            self.w_ += gradient*self.eta # multiply by learning rate \n",
    "            "
   ]
  },
  {
   "cell_type": "markdown",
   "metadata": {},
   "source": [
    "## Line Search Logistic Regression\n",
    "\n",
    "This class defines the optimization technique we can use for logistic regression using **Line search**. This class is designed to work for datasets having binary classes. This class will be further used for datasets with multi-class\n",
    "\n",
    "As this class inherits most of it's features from **BinaryLogisticRegression** class\n",
    "We only modify what's needed to optimize it using line search.\n",
    "\n",
    "Fit is the only modified functions which now implements line search function\n"
   ]
  },
  {
   "cell_type": "code",
   "execution_count": 60,
   "metadata": {},
   "outputs": [
    {
     "name": "stdout",
     "output_type": "stream",
     "text": [
      "CPU times: user 41 µs, sys: 1 µs, total: 42 µs\n",
      "Wall time: 45.1 µs\n"
     ]
    }
   ],
   "source": [
    "%%time\n",
    "# and we can update this to use a line search along the gradient like this:\n",
    "from scipy.optimize import minimize_scalar\n",
    "import copy\n",
    "class LineSearchLogisticRegression(BinaryLogisticRegression):\n",
    "    \n",
    "    # define custom line search for problem\n",
    "    @staticmethod\n",
    "    def line_search_function(eta,X,y,w,grad,C):\n",
    "        wnew = w + grad*eta\n",
    "        yhat = (1/(1+np.exp(-X @ wnew)))>0.5\n",
    "        return np.sum((y-yhat)**2)-C*np.sum(wnew**2)\n",
    "        \n",
    "    def fit(self, X, y):\n",
    "        Xb = self._add_bias(X) # add bias term\n",
    "        num_samples, num_features = Xb.shape\n",
    "        \n",
    "        self.w_ = np.zeros((num_features,1)) # init weight vector to zeros\n",
    "        \n",
    "        # for as many as the max iterations\n",
    "        for _ in range(self.iters):\n",
    "            gradient = self._get_gradient(Xb,y)\n",
    "            \n",
    "            # do line search in gradient direction, using scipy function\n",
    "            opts = {'maxiter':self.iters/20} # unclear exactly what this should be\n",
    "            res = minimize_scalar(self.line_search_function, # objective function to optimize\n",
    "                                  bounds=(self.eta/1000,self.eta*10), #bounds to optimize\n",
    "                                  args=(Xb,y,self.w_,gradient,self.C), # additional argument for objective function\n",
    "                                  method='bounded', # bounded optimization for speed\n",
    "                                  options=opts) # set max iterations\n",
    "            \n",
    "            eta = res.x # get optimal learning rate\n",
    "            self.w_ += gradient*eta # set new function values\n",
    "                "
   ]
  },
  {
   "cell_type": "markdown",
   "metadata": {},
   "source": [
    "## Stochastic Logistic Regression\n",
    "\n",
    "This class defines the optimization technique we can use for logistic regression using **Stochastic** method. This class is designed to work for datasets having binary classes. This class will be further used for datasets with multi-class\n",
    "\n",
    "As this class inherits most of it's features from **BinaryLogisticRegression** class\n",
    "We only modify what's needed to optimize it using Stochastic method.\n",
    "\n",
    "Gradient is modified in this method.\n"
   ]
  },
  {
   "cell_type": "code",
   "execution_count": 61,
   "metadata": {},
   "outputs": [
    {
     "name": "stdout",
     "output_type": "stream",
     "text": [
      "CPU times: user 45 µs, sys: 1e+03 ns, total: 46 µs\n",
      "Wall time: 51 µs\n"
     ]
    }
   ],
   "source": [
    "%%time\n",
    "class StochasticLogisticRegression(BinaryLogisticRegression):\n",
    "    # stochastic gradient calculation \n",
    "    def _get_gradient(self,X,y):\n",
    "        idx = int(np.random.rand()*len(y)) # grab random instance\n",
    "        ydiff = y[idx]-self.predict_proba(X[idx],add_bias=False) # get y difference (now scalar)\n",
    "        gradient = X[idx] * ydiff[:,np.newaxis] # make ydiff a column vector and multiply through\n",
    "        \n",
    "        gradient = gradient.reshape(self.w_.shape)\n",
    "        gradient[1:] += -2 * self.w_[1:] * self.C\n",
    "        \n",
    "        return gradient "
   ]
  },
  {
   "cell_type": "markdown",
   "metadata": {},
   "source": [
    "## Hessian Binary Logistic Regression\n",
    "\n",
    "\n",
    "This class defines the optimization technique we can use for logistic regression using **Hessian** method. This class is designed to work for datasets having binary classes. This class will be further used for datasets with multi-class\n",
    "\n",
    "As this class inherits most of it's features from **BinaryLogisticRegression** class\n",
    "We only modify what's needed to optimize it using Hessian method.\n",
    "\n",
    "Gradient is once again modified in this method to calculate hessian.\n"
   ]
  },
  {
   "cell_type": "code",
   "execution_count": 62,
   "metadata": {},
   "outputs": [
    {
     "name": "stdout",
     "output_type": "stream",
     "text": [
      "CPU times: user 54 µs, sys: 1 µs, total: 55 µs\n",
      "Wall time: 60.1 µs\n"
     ]
    }
   ],
   "source": [
    "%%time\n",
    "from numpy.linalg import pinv\n",
    "class HessianBinaryLogisticRegression(BinaryLogisticRegression):\n",
    "    # just overwrite gradient function\n",
    "    def _get_gradient(self,X,y):\n",
    "        g = self.predict_proba(X,add_bias=False).ravel() # get sigmoid value for all classes\n",
    "        hessian = X.T @ np.diag(g*(1-g)) @ X - 2 * self.C # calculate the hessian\n",
    "\n",
    "        ydiff = y-g # get y difference\n",
    "        gradient = np.sum(X * ydiff[:,np.newaxis], axis=0) # make ydiff a column vector and multiply through\n",
    "        gradient = gradient.reshape(self.w_.shape)\n",
    "        gradient[1:] += -2 * self.w_[1:] * self.C\n",
    "        \n",
    "        return pinv(hessian) @ gradient\n",
    "       "
   ]
  },
  {
   "cell_type": "markdown",
   "metadata": {},
   "source": [
    "## BFGS Binary Logistic Regression\n",
    "\n",
    "This class defines the optimization technique we can use for logistic regression using **quasi-Newton** methods is known as Broyden-Fletcher-Goldfarb-Shanno (BFGS). This class is designed to work for datasets having binary classes. This class will be further used for datasets with multi-class\n",
    "\n",
    "As this class inherits most of it's features from **BinaryLogisticRegression** class\n",
    "We only modify what's needed to optimize it using Hessian method.\n",
    "\n",
    "for this, we won't perform our own BFGS implementation since it takes a good deal of code and understanding of the algorithm\n",
    "luckily for us, scipy has its own BFGS implementation **fmin_bfgs**.\n"
   ]
  },
  {
   "cell_type": "code",
   "execution_count": 63,
   "metadata": {},
   "outputs": [
    {
     "name": "stdout",
     "output_type": "stream",
     "text": [
      "CPU times: user 42 µs, sys: 0 ns, total: 42 µs\n",
      "Wall time: 46 µs\n"
     ]
    }
   ],
   "source": [
    "%%time\n",
    "\n",
    "from scipy.optimize import fmin_bfgs\n",
    "class BFGSBinaryLogisticRegression(BinaryLogisticRegression):\n",
    "    \n",
    "    @staticmethod\n",
    "    def objective_function(w,X,y,C):\n",
    "        g = expit(X @ w)\n",
    "        return -np.sum(np.log(g[y==1]))-np.sum(np.log(1-g[y==0])) + C*np.sum(w**2) #-np.sum(y*np.log(g)+(1-y)*np.log(1-g)) #-np.sum(y*np.log(g)+(1-y)*np.log(1-g))\n",
    "\n",
    "    @staticmethod\n",
    "    def objective_gradient(w,X,y,C):\n",
    "        g = expit(X @ w)\n",
    "        ydiff = y-g # get y difference\n",
    "        gradient = np.mean(X * ydiff[:,np.newaxis], axis=0)\n",
    "        gradient = gradient.reshape(w.shape)\n",
    "        gradient[1:] += -2 * w[1:] * C\n",
    "        return -gradient\n",
    "    \n",
    "    # just overwrite fit function\n",
    "    def fit(self, X, y):\n",
    "        Xb = self._add_bias(X) # add bias term\n",
    "        num_samples, num_features = Xb.shape\n",
    "        \n",
    "        self.w_ = fmin_bfgs(self.objective_function, # what to optimize\n",
    "                            np.zeros((num_features,1)), # starting point\n",
    "                            fprime=self.objective_gradient, # gradient function\n",
    "                            args=(Xb,y,self.C), # extra args for gradient and objective function\n",
    "                            gtol=1e-03, # stopping criteria for gradient, |v_k|\n",
    "                            maxiter=self.iters, # stopping criteria iterations\n",
    "                            disp=False)\n",
    "        \n",
    "        self.w_ = self.w_.reshape((num_features,1))\n",
    "            "
   ]
  },
  {
   "cell_type": "markdown",
   "metadata": {},
   "source": [
    "## Multi-Class Logistic Regression\n",
    "\n",
    "Here is the class which uses all of the above classes. The above classes was designed for datasets with binary classes. This class is class which will implement optimized logistic regression for multi-class datasets.\n",
    "\n",
    "The way to do it to implement binary methods for each unique class of the datasets using **one-versus-all** method.\n",
    "\n",
    "**note:** this class is modified from the source to include an extra parameter for the class called solver (optimization Technique)\n",
    "\n",
    "by adding this parameter we make this class generic to implement all types of optimized techniques by just providing the technique name in the solver prameter."
   ]
  },
  {
   "cell_type": "code",
   "execution_count": 64,
   "metadata": {},
   "outputs": [],
   "source": [
    "class MultiClassLogisticRegression:\n",
    "    def __init__(self, eta, iterations=20, C=0.0001, solver=\"\"):\n",
    "        self.optimizationTechnique = solver\n",
    "        self.eta = eta\n",
    "        self.iters = iterations\n",
    "        self.C = C\n",
    "        self.classifiers_ = []\n",
    "        # internally we will store the weights as self.w_ to keep with sklearn conventions\n",
    "    \n",
    "    def __str__(self):\n",
    "        if(hasattr(self,'w_')):\n",
    "            return 'MultiClass Logistic Regression Object with coefficients:\\n'+ str(self.w_) # is we have trained the object\n",
    "        else:\n",
    "            return 'Untrained MultiClass Logistic Regression Object'\n",
    "        \n",
    "    def fit(self,X,y):\n",
    "        num_samples, num_features = X.shape\n",
    "        self.unique_ = np.sort(np.unique(y)) # get each unique class value\n",
    "        num_unique_classes = len(self.unique_)\n",
    "        self.classifiers_ = []\n",
    "        for i,yval in enumerate(self.unique_): # for each unique value\n",
    "            y_binary = y==yval # create a binary problem\n",
    "            # train the binary classifier for this class\n",
    "            \n",
    "            # According the optimization Technique provided, the method will select the appropriate technique to implement.\n",
    "            if self.optimizationTechnique == \"steepest descent\":\n",
    "                hblr = LineSearchLogisticRegression(self.eta,self.iters,self.C)\n",
    "            elif self.optimizationTechnique == \"stochastic gradient descent\":\n",
    "                hblr = StochasticLogisticRegression(self.eta,self.iters,self.C)\n",
    "            elif self.optimizationTechnique == \"Newtons method\":\n",
    "                hblr = HessianBinaryLogisticRegression(self.eta,self.iters,self.C)\n",
    "            else :\n",
    "                hblr = BFGSBinaryLogisticRegression(self.eta,self.iters,self.C)\n",
    "            \n",
    "            hblr.fit(X,y_binary)\n",
    "            #print(accuracy(y_binary,hblr.predict(X)))\n",
    "            # add the trained classifier to the list\n",
    "            self.classifiers_.append(hblr)\n",
    "            \n",
    "        print(\"Using \"+self.optimizationTechnique+\" optimization technique\")\n",
    "        # save all the weights into one matrix, separate column for each class\n",
    "        self.w_ = np.hstack([x.w_ for x in self.classifiers_]).T\n",
    "        \n",
    "    def predict_proba(self,X):\n",
    "        probs = []\n",
    "        for hblr in self.classifiers_:\n",
    "            probs.append(hblr.predict_proba(X).reshape((len(X),1))) # get probability for each classifier\n",
    "        \n",
    "        return np.hstack(probs) # make into single matrix\n",
    "    \n",
    "    def predict(self,X):\n",
    "        return np.argmax(self.predict_proba(X),axis=1) # take argmax along row\n",
    "    \n",
    "\n"
   ]
  },
  {
   "cell_type": "markdown",
   "metadata": {},
   "source": [
    "## Implementing Stochastic Logistic Regression for multi class\n",
    "\n",
    "the following code implements the Stochastic method for multi-class datasets.we add the parameter 'solver' which tells the MultiClassLogisticRegression class which technique to use. In this case it is stochastic gradient descent."
   ]
  },
  {
   "cell_type": "code",
   "execution_count": 65,
   "metadata": {},
   "outputs": [
    {
     "name": "stdout",
     "output_type": "stream",
     "text": [
      "Using stochastic gradient descent optimization technique\n",
      "MultiClass Logistic Regression Object with coefficients:\n",
      "[[-4.55265635e-01 -2.52714858e-04 -4.01991282e-01 -4.76274162e-01]\n",
      " [-3.13630622e-01 -3.83386279e-02 -3.18237803e-01 -2.05401919e-01]\n",
      " [-1.18825338e-01 -3.13633975e-01 -2.86548183e-02 -2.25310451e-01]\n",
      " [-3.54330969e-01 -2.05592593e-01 -2.50790144e-01 -2.17214521e-01]\n",
      " [-4.53907902e-01 -1.60282996e-01 -4.95840352e-01 -1.98951040e-01]]\n",
      "Accuracy of:  0.4168336673346693\n",
      "CPU times: user 30.3 ms, sys: 4.01 ms, total: 34.3 ms\n",
      "Wall time: 31.6 ms\n"
     ]
    }
   ],
   "source": [
    "%%time\n",
    "\n",
    "lr = MultiClassLogisticRegression(eta=0.01,iterations=250,C=0.02,solver=\"stochastic gradient descent\")\n",
    "lr.fit(X,y)\n",
    "print(lr)\n",
    "\n",
    "yhat = lr.predict(X)\n",
    "print('Accuracy of: ',accuracy_score(y,yhat))"
   ]
  },
  {
   "cell_type": "markdown",
   "metadata": {},
   "source": [
    "After multiple tests we conclude the general performance for Multi-Class Logistic Regression using stochastic gradient descent\n",
    "\n",
    "**Accuracy** = 41.6833%\n",
    "\n",
    "**Wall time** = 28.4ms\n",
    "\n",
    "## Implementing Newton's method of Logistic Regression for multi class"
   ]
  },
  {
   "cell_type": "code",
   "execution_count": 66,
   "metadata": {},
   "outputs": [
    {
     "name": "stdout",
     "output_type": "stream",
     "text": [
      "Using Newtons method optimization technique\n",
      "MultiClass Logistic Regression Object with coefficients:\n",
      "[[-1.98064635e-02  7.05131050e-03  2.71936482e-04  5.71230538e-05]\n",
      " [-1.54881355e-02  5.80600853e-03  4.39676018e-04  2.68246822e-04]\n",
      " [ 1.72521647e-03 -8.51125749e-03  2.68680863e-04 -2.92097311e-03]\n",
      " [-1.10953947e-02 -3.66659726e-03 -7.26142678e-04  9.95470364e-04]\n",
      " [-1.53399666e-02 -6.85069056e-04 -2.53593418e-04  1.60107846e-03]]\n",
      "Accuracy of:  0.4338677354709419\n",
      "CPU times: user 14.3 ms, sys: 7.3 ms, total: 21.6 ms\n",
      "Wall time: 18.1 ms\n"
     ]
    }
   ],
   "source": [
    "%%time\n",
    "\n",
    "lr = MultiClassLogisticRegression(eta=0.01,iterations=1,C=0.01,solver=\"Newtons method\")\n",
    "lr.fit(X,y)\n",
    "print(lr)\n",
    "\n",
    "yhat = lr.predict(X)\n",
    "print('Accuracy of: ',accuracy_score(y,yhat))"
   ]
  },
  {
   "cell_type": "markdown",
   "metadata": {},
   "source": [
    "After multiple tests we conclude the general performance for Multi-Class Logistic Regression using Newton's method.\n",
    "\n",
    "**Accuracy** = 43.38677%\n",
    "\n",
    "**Wall time** = 21.8ms\n",
    "\n",
    "## Implementing Steepest descent Logistic Regression for multi class"
   ]
  },
  {
   "cell_type": "code",
   "execution_count": 67,
   "metadata": {},
   "outputs": [
    {
     "ename": "TypeError",
     "evalue": "numpy boolean subtract, the `-` operator, is deprecated, use the bitwise_xor, the `^` operator, or the logical_xor function instead.",
     "output_type": "error",
     "traceback": [
      "\u001b[0;31m---------------------------------------------------------------------------\u001b[0m",
      "\u001b[0;31mTypeError\u001b[0m                                 Traceback (most recent call last)",
      "\u001b[0;32m<timed exec>\u001b[0m in \u001b[0;36m<module>\u001b[0;34m()\u001b[0m\n",
      "\u001b[0;32m<ipython-input-64-04af65fd84ad>\u001b[0m in \u001b[0;36mfit\u001b[0;34m(self, X, y)\u001b[0m\n\u001b[1;32m     33\u001b[0m                 \u001b[0mhblr\u001b[0m \u001b[0;34m=\u001b[0m \u001b[0mBFGSBinaryLogisticRegression\u001b[0m\u001b[0;34m(\u001b[0m\u001b[0mself\u001b[0m\u001b[0;34m.\u001b[0m\u001b[0meta\u001b[0m\u001b[0;34m,\u001b[0m\u001b[0mself\u001b[0m\u001b[0;34m.\u001b[0m\u001b[0miters\u001b[0m\u001b[0;34m,\u001b[0m\u001b[0mself\u001b[0m\u001b[0;34m.\u001b[0m\u001b[0mC\u001b[0m\u001b[0;34m)\u001b[0m\u001b[0;34m\u001b[0m\u001b[0m\n\u001b[1;32m     34\u001b[0m \u001b[0;34m\u001b[0m\u001b[0m\n\u001b[0;32m---> 35\u001b[0;31m             \u001b[0mhblr\u001b[0m\u001b[0;34m.\u001b[0m\u001b[0mfit\u001b[0m\u001b[0;34m(\u001b[0m\u001b[0mX\u001b[0m\u001b[0;34m,\u001b[0m\u001b[0my_binary\u001b[0m\u001b[0;34m)\u001b[0m\u001b[0;34m\u001b[0m\u001b[0m\n\u001b[0m\u001b[1;32m     36\u001b[0m             \u001b[0;31m#print(accuracy(y_binary,hblr.predict(X)))\u001b[0m\u001b[0;34m\u001b[0m\u001b[0;34m\u001b[0m\u001b[0m\n\u001b[1;32m     37\u001b[0m             \u001b[0;31m# add the trained classifier to the list\u001b[0m\u001b[0;34m\u001b[0m\u001b[0;34m\u001b[0m\u001b[0m\n",
      "\u001b[0;32m<timed exec>\u001b[0m in \u001b[0;36mfit\u001b[0;34m(self, X, y)\u001b[0m\n",
      "\u001b[0;32m/Library/Frameworks/Python.framework/Versions/3.6/lib/python3.6/site-packages/scipy/optimize/_minimize.py\u001b[0m in \u001b[0;36mminimize_scalar\u001b[0;34m(fun, bracket, bounds, args, method, tol, options)\u001b[0m\n\u001b[1;32m    656\u001b[0m             raise ValueError('The `bounds` parameter is mandatory for '\n\u001b[1;32m    657\u001b[0m                              'method `bounded`.')\n\u001b[0;32m--> 658\u001b[0;31m         \u001b[0;32mreturn\u001b[0m \u001b[0m_minimize_scalar_bounded\u001b[0m\u001b[0;34m(\u001b[0m\u001b[0mfun\u001b[0m\u001b[0;34m,\u001b[0m \u001b[0mbounds\u001b[0m\u001b[0;34m,\u001b[0m \u001b[0margs\u001b[0m\u001b[0;34m,\u001b[0m \u001b[0;34m**\u001b[0m\u001b[0moptions\u001b[0m\u001b[0;34m)\u001b[0m\u001b[0;34m\u001b[0m\u001b[0m\n\u001b[0m\u001b[1;32m    659\u001b[0m     \u001b[0;32melif\u001b[0m \u001b[0mmeth\u001b[0m \u001b[0;34m==\u001b[0m \u001b[0;34m'golden'\u001b[0m\u001b[0;34m:\u001b[0m\u001b[0;34m\u001b[0m\u001b[0m\n\u001b[1;32m    660\u001b[0m         \u001b[0;32mreturn\u001b[0m \u001b[0m_minimize_scalar_golden\u001b[0m\u001b[0;34m(\u001b[0m\u001b[0mfun\u001b[0m\u001b[0;34m,\u001b[0m \u001b[0mbracket\u001b[0m\u001b[0;34m,\u001b[0m \u001b[0margs\u001b[0m\u001b[0;34m,\u001b[0m \u001b[0;34m**\u001b[0m\u001b[0moptions\u001b[0m\u001b[0;34m)\u001b[0m\u001b[0;34m\u001b[0m\u001b[0m\n",
      "\u001b[0;32m/Library/Frameworks/Python.framework/Versions/3.6/lib/python3.6/site-packages/scipy/optimize/optimize.py\u001b[0m in \u001b[0;36m_minimize_scalar_bounded\u001b[0;34m(func, bounds, args, xatol, maxiter, disp, **unknown_options)\u001b[0m\n\u001b[1;32m   1739\u001b[0m     \u001b[0mrat\u001b[0m \u001b[0;34m=\u001b[0m \u001b[0me\u001b[0m \u001b[0;34m=\u001b[0m \u001b[0;36m0.0\u001b[0m\u001b[0;34m\u001b[0m\u001b[0m\n\u001b[1;32m   1740\u001b[0m     \u001b[0mx\u001b[0m \u001b[0;34m=\u001b[0m \u001b[0mxf\u001b[0m\u001b[0;34m\u001b[0m\u001b[0m\n\u001b[0;32m-> 1741\u001b[0;31m     \u001b[0mfx\u001b[0m \u001b[0;34m=\u001b[0m \u001b[0mfunc\u001b[0m\u001b[0;34m(\u001b[0m\u001b[0mx\u001b[0m\u001b[0;34m,\u001b[0m \u001b[0;34m*\u001b[0m\u001b[0margs\u001b[0m\u001b[0;34m)\u001b[0m\u001b[0;34m\u001b[0m\u001b[0m\n\u001b[0m\u001b[1;32m   1742\u001b[0m     \u001b[0mnum\u001b[0m \u001b[0;34m=\u001b[0m \u001b[0;36m1\u001b[0m\u001b[0;34m\u001b[0m\u001b[0m\n\u001b[1;32m   1743\u001b[0m     \u001b[0mfmin_data\u001b[0m \u001b[0;34m=\u001b[0m \u001b[0;34m(\u001b[0m\u001b[0;36m1\u001b[0m\u001b[0;34m,\u001b[0m \u001b[0mxf\u001b[0m\u001b[0;34m,\u001b[0m \u001b[0mfx\u001b[0m\u001b[0;34m)\u001b[0m\u001b[0;34m\u001b[0m\u001b[0m\n",
      "\u001b[0;32m<timed exec>\u001b[0m in \u001b[0;36mline_search_function\u001b[0;34m(eta, X, y, w, grad, C)\u001b[0m\n",
      "\u001b[0;31mTypeError\u001b[0m: numpy boolean subtract, the `-` operator, is deprecated, use the bitwise_xor, the `^` operator, or the logical_xor function instead."
     ]
    }
   ],
   "source": [
    "%%time\n",
    "lr = MultiClassLogisticRegression(eta=0.1,iterations=100,C=0.01,solver=\"steepest descent\")\n",
    "lr.fit(X,y)\n",
    "print(lr)\n",
    "\n",
    "yhat = lr.predict(X)\n",
    "print('Accuracy of: ',accuracy_score(y,yhat))"
   ]
  },
  {
   "cell_type": "markdown",
   "metadata": {},
   "source": [
    "After multiple tests we conclude the general performance for Multi-Class Logistic Regression using steepest descent method.\n",
    "\n",
    "**Accuracy** = 43.38677%\n",
    "\n",
    "**Wall time** = 15.5ms\n",
    "\n",
    "## Implementing BFGS Logistic Regression for multi class"
   ]
  },
  {
   "cell_type": "code",
   "execution_count": 68,
   "metadata": {},
   "outputs": [
    {
     "name": "stdout",
     "output_type": "stream",
     "text": [
      "Using default : BFGSBinaryLogisticRegression optimization technique\n",
      "MultiClass Logistic Regression Object with coefficients:\n",
      "[[-2.79735955  1.67193212 -0.27891235 -0.06108742]\n",
      " [-1.98100158  0.88326233  0.04605101  0.01939509]\n",
      " [-0.01936545 -1.32987119  0.09907226 -0.28550663]\n",
      " [-1.10708299 -0.99035353 -0.17666083  0.14876605]\n",
      " [-1.695089   -0.64986193 -0.17750906  0.29961125]]\n",
      "Accuracy of:  0.44589178356713427\n",
      "CPU times: user 12.5 ms, sys: 1.29 ms, total: 13.8 ms\n",
      "Wall time: 13.3 ms\n"
     ]
    }
   ],
   "source": [
    "%%time\n",
    "lr = MultiClassLogisticRegression(_,iterations=8,C=0.00001,solver=\"default : BFGSBinaryLogisticRegression\")\n",
    "lr.fit(X,y)\n",
    "print(lr)\n",
    "\n",
    "yhat = lr.predict(X)\n",
    "print('Accuracy of: ',accuracy_score(y,yhat))"
   ]
  },
  {
   "cell_type": "markdown",
   "metadata": {},
   "source": [
    "After multiple tests we conclude the general performance for Multi-Class Logistic Regression using BFGS Binary Logistic Regression method. This is the most optimized method we found till now.\n",
    "\n",
    "**Accuracy** = 44.5891%\n",
    "\n",
    "**Wall time** = 9.93ms\n",
    "\n",
    "## Implementing Parallel Multi-Class Logistic Regression"
   ]
  },
  {
   "cell_type": "code",
   "execution_count": 69,
   "metadata": {},
   "outputs": [
    {
     "name": "stdout",
     "output_type": "stream",
     "text": [
      "MultiClass Logistic Regression Object with coefficients:\n",
      "[[-2.95989091  1.41202123 -0.06527353 -0.13861302]\n",
      " [-1.98207074  0.82150336  0.08760012  0.01893103]\n",
      " [ 0.11988921 -1.3367515   0.04195428 -0.28071492]\n",
      " [-1.13187242 -0.94949032 -0.13695808  0.12596788]\n",
      " [-1.8206801  -0.50644521 -0.04571948  0.24531483]]\n",
      "Accuracy of:  0.43887775551102204\n",
      "CPU times: user 24.6 ms, sys: 11.6 ms, total: 36.3 ms\n",
      "Wall time: 105 ms\n"
     ]
    }
   ],
   "source": [
    "%%time\n",
    "# its still faster! Can we fix that?\n",
    "from joblib import Parallel, delayed\n",
    "\n",
    "class ParallelMultiClassLogisticRegression(MultiClassLogisticRegression):\n",
    "    @staticmethod\n",
    "    def par_logistic(yval,eta,iters,C,X,y):\n",
    "        y_binary = y==yval # create a binary problem\n",
    "        # train the binary classifier for this class\n",
    "        hblr = BFGSBinaryLogisticRegression(eta,iters,C)\n",
    "        hblr.fit(X,y_binary)\n",
    "        return hblr\n",
    "    \n",
    "    def fit(self,X,y):\n",
    "        num_samples, num_features = X.shape\n",
    "        self.unique_ = np.sort(np.unique(y)) # get each unique class value\n",
    "        num_unique_classes = len(self.unique_)\n",
    "        backend = 'threading' #'multiprocessing'\n",
    "        \n",
    "        self.classifiers_ = Parallel(n_jobs=-1,backend=backend)(\n",
    "            delayed(self.par_logistic)(yval,self.eta,self.iters,self.C,X,y) for yval in self.unique_)\n",
    "            \n",
    "        # save all the weights into one matrix, separate column for each class\n",
    "        self.w_ = np.hstack([x.w_ for x in self.classifiers_]).T\n",
    "        \n",
    "plr = ParallelMultiClassLogisticRegression(eta=0.1,iterations=10,C=0.0001)\n",
    "plr.fit(X,y)\n",
    "print(plr)\n",
    "\n",
    "yhat = plr.predict(X)\n",
    "print('Accuracy of: ',accuracy_score(y,yhat))"
   ]
  },
  {
   "cell_type": "markdown",
   "metadata": {},
   "source": [
    "After multiple tests we conclude the general performance for Multi-Class Logistic Regression using parallel computing method.\n",
    "\n",
    "**Accuracy** = 43.8877%\n",
    "\n",
    "**Wall time** = 111ms\n",
    "\n",
    "\n",
    "by this we tried out all optimization techniques for logestic regression.\n",
    "\n",
    "# Implementing SKLearn for Grade prediction Dataset\n",
    "\n",
    "Now, the following code implements logistic regression with inbuilt optimization of SKLearn which is considered the best because the library uses all the optimization possible implicitly and provides with best results."
   ]
  },
  {
   "cell_type": "code",
   "execution_count": 70,
   "metadata": {
    "scrolled": true
   },
   "outputs": [
    {
     "name": "stdout",
     "output_type": "stream",
     "text": [
      "[[-3.47136578e+00  1.52762926e+00 -2.98414809e-03 -2.66714221e-02]\n",
      " [-1.92002204e+00  7.65513020e-01  5.68552637e-02  3.41656803e-02]\n",
      " [ 2.56599419e-01 -1.34308210e+00  2.82133299e-02 -3.55571410e-01]\n",
      " [-1.23290455e+00 -7.66504535e-01 -1.24248538e-01  1.52433002e-01]\n",
      " [-1.96238758e+00 -1.55973303e-01 -6.42861845e-02  2.83957963e-01]]\n",
      "Accuracy of:  0.43687374749499\n",
      "CPU times: user 6.34 ms, sys: 1.3 ms, total: 7.65 ms\n",
      "Wall time: 6.6 ms\n"
     ]
    }
   ],
   "source": [
    "%%time\n",
    "from sklearn.linear_model import LogisticRegression as SKLogisticRegression\n",
    "from sklearn.metrics import accuracy_score\n",
    "\n",
    "lr_sk = SKLogisticRegression() # all params default\n",
    "\n",
    "lr_sk.fit(X,y)\n",
    "print(np.hstack((lr_sk.intercept_[:,np.newaxis],lr_sk.coef_)))\n",
    "yhat = lr_sk.predict(X)\n",
    "print('Accuracy of: ',accuracy_score(y,yhat))"
   ]
  },
  {
   "cell_type": "markdown",
   "metadata": {},
   "source": [
    "As we saw, SKLearn implimentation provides the fastest Wall time and accuracy level among the highest.\n",
    "\n",
    "\n",
    "**Accuracy** = 43.6873%\n",
    "\n",
    "**Wall time** = 6.4 ms\n"
   ]
  },
  {
   "cell_type": "markdown",
   "metadata": {},
   "source": [
    "## 2.1.2 L1, L2 Regularization for Gradient Calculation\n",
    "\n",
    "Let's observe the difference between the difference the predicted values and the actual values. We will change the values of C and implement L1 and L2 regularization to see the impact on the gradient calculation of the optimization technique.\n",
    "\n",
    "L1 regularization calculates the sum of difference between corresponding elements of two vectors. Whereas L2 regularization calculates the sum of square of difference between corresponding elements of the two vectors. Prediction is considered to be accurate when the difference between the predicted and actual values is less. Hence we aim for low values of L1 and L2.\n",
    "\n",
    "For this purpose we are considering the Stochastic Gradient Descent Optimization Technique."
   ]
  },
  {
   "cell_type": "code",
   "execution_count": 71,
   "metadata": {},
   "outputs": [],
   "source": [
    "def L1(y, y_hat):\n",
    "    return np.sum(abs(y-y_hat))\n",
    "\n",
    "def L2(y, y_hat):\n",
    "    return np.sum((y-y_hat)*(y-y_hat))"
   ]
  },
  {
   "cell_type": "code",
   "execution_count": 72,
   "metadata": {},
   "outputs": [
    {
     "name": "stdout",
     "output_type": "stream",
     "text": [
      "Using stochastic gradient descent optimization technique\n",
      "MultiClass Logistic Regression Object with coefficients:\n",
      "[[-0.24283516 -0.06376118 -0.24027126 -0.18787609]\n",
      " [-0.22305601 -0.05785757 -0.22499    -0.11944182]\n",
      " [-0.14317561 -0.13472175 -0.09223064 -0.17633468]\n",
      " [-0.18952486 -0.04710843 -0.2329258  -0.15368992]\n",
      " [-0.21434512 -0.08233474 -0.28903417 -0.14756328]]\n",
      "Accuracy for C: 0.1:  0.3727454909819639\n",
      "L1: 968\n",
      "L2: 1766\n",
      "Using stochastic gradient descent optimization technique\n",
      "MultiClass Logistic Regression Object with coefficients:\n",
      "[[-0.27834351 -0.03196225 -0.21723079 -0.19125755]\n",
      " [-0.21346744  0.01542295 -0.20570093 -0.14099688]\n",
      " [-0.08423978 -0.07276625  0.02068526 -0.12392385]\n",
      " [-0.1890205  -0.07199379 -0.17464047 -0.15754171]\n",
      " [-0.23312627 -0.06535345 -0.23428604 -0.16701059]]\n",
      "Accuracy for C: 0.5:  0.3807615230460922\n",
      "L1: 846\n",
      "L2: 1306\n",
      "Using stochastic gradient descent optimization technique\n",
      "MultiClass Logistic Regression Object with coefficients:\n",
      "[[-0.30959171 -0.01544155 -0.17590331 -0.14632429]\n",
      " [-0.23101724 -0.0162001  -0.12127099 -0.1437303 ]\n",
      " [-0.06185994 -0.07312739 -0.02673319 -0.1031275 ]\n",
      " [-0.19364352 -0.03773167 -0.08152378 -0.01233564]\n",
      " [-0.25796012 -0.05780601 -0.17257783 -0.09326485]]\n",
      "Accuracy for C: 0.9:  0.37975951903807614\n",
      "L1: 881\n",
      "L2: 1467\n"
     ]
    }
   ],
   "source": [
    "lr = MultiClassLogisticRegression(eta=0.01,iterations=100,C=0.1,solver=\"stochastic gradient descent\")\n",
    "lr.fit(X,y)\n",
    "print(lr)\n",
    "\n",
    "yhat = lr.predict(X)\n",
    "print('Accuracy for C: 0.1: ',accuracy_score(y,yhat))\n",
    "print('L1:', L1(y,yhat))\n",
    "print('L2:', L2(y,yhat))\n",
    "\n",
    "lr = MultiClassLogisticRegression(eta=0.01,iterations=100,C=0.5,solver=\"stochastic gradient descent\")\n",
    "lr.fit(X,y)\n",
    "print(lr)\n",
    "\n",
    "yhat = lr.predict(X)\n",
    "print('Accuracy for C: 0.5: ',accuracy_score(y,yhat))\n",
    "print('L1:', L1(y,yhat))\n",
    "print('L2:', L2(y,yhat))\n",
    "\n",
    "lr = MultiClassLogisticRegression(eta=0.01,iterations=100,C=0.9,solver=\"stochastic gradient descent\")\n",
    "lr.fit(X,y)\n",
    "print(lr)\n",
    "\n",
    "yhat = lr.predict(X)\n",
    "print('Accuracy for C: 0.9: ',accuracy_score(y,yhat))\n",
    "print('L1:', L1(y,yhat))\n",
    "print('L2:', L2(y,yhat))"
   ]
  },
  {
   "cell_type": "markdown",
   "metadata": {},
   "source": [
    "It is observed that for Stochastic gradient descent, as we increase the value of C from 0.1 the L1 and L2 values also increases. That means the accuracy of predicted values is decreasing with increase in C."
   ]
  },
  {
   "cell_type": "markdown",
   "metadata": {},
   "source": [
    "## 2.2 Classifier's Performance Based on Parameters Investigated\n",
    "\n",
    "After implementing the above optimization techniques for logistic regression, we found that BFGS is most suitable for our grade prediction model. So we decided to visualize the performance of this classifier and optimizer i.e it's accuracy against parameters which are regulation term and number of iterations. We executed the classifier by tuning the parameter values and collected about 25 samples. "
   ]
  },
  {
   "cell_type": "code",
   "execution_count": 73,
   "metadata": {},
   "outputs": [
    {
     "data": {
      "image/png": "[encoded data removed]",
      "text/plain": [
       "<matplotlib.figure.Figure at 0x1172016a0>"
      ]
     },
     "metadata": {},
     "output_type": "display_data"
    },
    {
     "data": {
      "image/png": "[encoded data removed]",
      "text/plain": [
       "<matplotlib.figure.Figure at 0x106580438>"
      ]
     },
     "metadata": {},
     "output_type": "display_data"
    },
    {
     "data": {
      "image/png": "[encoded data removed]",
      "text/plain": [
       "<matplotlib.figure.Figure at 0x116dc1080>"
      ]
     },
     "metadata": {},
     "output_type": "display_data"
    }
   ],
   "source": [
    "#ref - https://stackoverflow.com/questions/39715601/how-to-create-a-line-chart-using-matplotlib\n",
    "import matplotlib.pyplot as plt\n",
    "\n",
    "df_obv = pd.read_csv('file:///Users/piyushmetkar/Documents/SMU/Notes/Spring 18/7324 Machine Learning in Python/Lab 3/observations.csv') \n",
    "\n",
    "\n",
    "df_obv.head()\n",
    "\n",
    "C = df_obv['C'].values\n",
    "itrn = df_obv['Iterations'].values\n",
    "accr = df_obv['Accuracy'].values\n",
    "wt = df_obv['Walltime'].values\n",
    "\n",
    "fig = plt.figure(figsize=(6,4))\n",
    "ax1 = fig.add_subplot(111)\n",
    "ax1.plot(itrn, accr, label='Component 1', color='c', marker='o')\n",
    "ax1.grid(True)\n",
    "plt.xlabel('Iteration')\n",
    "plt.ylabel('Accuracy in percent')\n",
    "plt.show()\n",
    "\n",
    "fig = plt.figure(figsize=(6,4))\n",
    "ax1 = fig.add_subplot(111)\n",
    "ax1.plot(C, accr, label='Component 1', color='r', marker='x')\n",
    "ax1.grid(True)\n",
    "plt.xlabel('C')\n",
    "plt.ylabel('Accuracy in percent')\n",
    "plt.show()\n",
    "\n",
    "fig = plt.figure(figsize=(6,4))\n",
    "ax1 = fig.add_subplot(111)\n",
    "ax1.plot(itrn, wt, label='Component 1', color='g', marker='o')\n",
    "ax1.grid(True)\n",
    "plt.xlabel('Iterations')\n",
    "plt.ylabel('Wall time')\n",
    "plt.autoscale()\n",
    "plt.show()"
   ]
  },
  {
   "cell_type": "markdown",
   "metadata": {},
   "source": [
    "From the above 3 graph we can have serveral conclusions. In our classifier we observed that as we increase the number of iterations the accuracy level keeps increasing at a certain point. Iteration at this point is 8. After this the accuracy level fluctuate around tht range as we further increase the iterations. SO we kept the iteration number for our chosen classifier as 8.\n",
    "\n",
    "In the second graph we see accuracy level all scattered around the graph, this indicates that the dependancy of accuracy & time is not that consistant with the regulation term 'c'. After multiple observations we decided to move forward with 'c' value as 0.00001.\n",
    "\n",
    "The 3rd graph shows us that wall time is directly proportional to the number of iterations. SO this comes down to the requiement of the model as what is more important to us Accuracy or the speed. \n",
    "\n",
    "In the grade prediction model, we would consider accuracy to be of more priority over Wall time.\n",
    "\n",
    "\n",
    "## 2.3 Comparing Optimization Techniques\n",
    "\n",
    "From all the above multiclass logistic regression we performed the results can be summarized into the following table.\n",
    "\n"
   ]
  },
  {
   "cell_type": "code",
   "execution_count": null,
   "metadata": {},
   "outputs": [],
   "source": []
  },
  {
   "cell_type": "markdown",
   "metadata": {},
   "source": [
    "\n",
    "\n",
    "Now looking at the table, let's analyse the results. For the analysis, we are using scatter plot where the X axis is accuracy percent and Y axis is wall time in milliseconds of the various optimization techniques we used for logistic regression.\n",
    "\n"
   ]
  },
  {
   "cell_type": "code",
   "execution_count": 74,
   "metadata": {},
   "outputs": [
    {
     "data": {
      "image/png": "[encoded data removed]",
      "text/plain": [
       "<matplotlib.figure.Figure at 0x117201cf8>"
      ]
     },
     "metadata": {},
     "output_type": "display_data"
    }
   ],
   "source": [
    "\n",
    "import matplotlib.pyplot as plt\n",
    "\n",
    "npacc = np.asarray([43.68, 41.68, 43.38, 43.38, 44.58, 43.88, 43.68])\n",
    "npwt = np.asarray([31.4, 28.4, 21.8, 15.5, 9.93, 111, 6.4])\n",
    "nplabels = np.asarray(['Vector Multi-class Logistic Regression', 'Stochastic gradient descent', 'Newton''s method', 'Steepest descent', 'BFGS Logistic Regression', 'Parallel computing', 'SK Logistic Regression'])\n",
    "\n",
    "colors = ['blue', 'cyan', 'orange', 'magenta', 'red', 'green', 'black']\n",
    "\n",
    "fig, ax = plt.subplots()\n",
    "i = 0\n",
    "for color in ['blue', 'cyan', 'orange', 'magenta', 'red', 'green', 'black']:\n",
    "    scale = 200\n",
    "    ax.scatter(npwt[i], npacc[i], c=colors[i], s=scale, label=nplabels[i], alpha=0.5)\n",
    "    i=i+1\n",
    "\n",
    "ax.legend(prop={'size': 12},bbox_to_anchor=(3.0,0.75))\n",
    "ax.grid(True)\n",
    "plt.xlabel(\"Wall Time in ms\")\n",
    "plt.ylabel(\"Accuracy Percent\")\n",
    "\n",
    "plt.show()"
   ]
  },
  {
   "cell_type": "markdown",
   "metadata": {},
   "source": [
    "\n",
    "From the graph, we can see that **Sci-kit learn** is the fastest compared to  all our implementations with walltime of 6.4 ms and gives the accuracy of 43.68%. Our best optimization which turns out to be **BFGS Logistic Regression** gives us the highest accuracy percent compared to all our implementations and sci-kit learn. The walltime is slightly more than sci-kit learn at 9.93 ms.\n",
    "\n",
    "Stochastic Gradient Descent is directly proportional to the number of iterations which also increases the walltime. So in our case with 250 iterations we get least accuracy here. However we can increase this accuracy at the expense of wall time. This technique is not recommended for our model since we already found a technique with better accuracy and time.\n",
    "\n",
    "Parallel Computing was found to take the most wall time i.e 111 ms. Generally parallel computing is most suitable for large number of features and unique classes. Our data has comparativley has only 3 features and works better with sequential computing techniques.\n",
    "\n",
    "Rest all the other techniques were found to give more or less same accuracy with slight difference in wall time.\n",
    "\n",
    "***Note:** Please note that these results have been noted from multiple observations and is generally found consistent. \n"
   ]
  },
  {
   "cell_type": "markdown",
   "metadata": {},
   "source": [
    "# 3. Deployment\n",
    "\n",
    "From the conclusions we made It is clear, that choice of implementation for a machibe learning model is based upon the requirement. If we require more accuracy, we should go with **BFGS Logistic Regression** as it provides the best accuracy with reasonable amount of time.\n",
    "\n",
    "**Sci-kit Learn** can be used if observations are very large and need to have a smaller wall time. Sci-kit learn would serve a good choice for those type of models. However, in future if Sci-kit Learn becomes properietary we have our own model which provides as good accuracy and can be improved on grounds of execution times required for large data.\n",
    "\n",
    "**Parallel computing** also provides a high accuracy, but it's ideal for dataset with many features or unique classes. The benefits of parallel computing may be seen only then.\n",
    "\n",
    "One can argue that sci-kit learn can internally also use parallel computing along with other optimization tricks to provide the best result. In order to conclude that multiple implementations will have to be done with different variety of machne learning models.\n",
    "\n",
    "In our case i.e Grade prediction model, We would go with BFGS Logistic Regression to take full advantage of the accuracy level provided. \n",
    "\n",
    "Looking at 44.6 % accuracy doesn't seem a lot, this is because of the limited observation we have. as per our Classifier's Performance Based on Parameters Investigated on section 2.2 we can say that as faculty members will go on adding more observations through time, Accuracy of the model will keep increasing.  \n",
    "\n",
    "\n"
   ]
  },
  {
   "cell_type": "markdown",
   "metadata": {},
   "source": [
    "# 4. Exceptional Work\n",
    "\n",
    "**For Exceptional work we have provided 2 additional optimizational techniques above for Multi-class Logistic Regression in section 2.1.1**\n"
   ]
  },
  {
   "cell_type": "code",
   "execution_count": 75,
   "metadata": {},
   "outputs": [],
   "source": [
    "# Reference : http://ml-cheatsheet.readthedocs.io/en/latest/logistic_regression.html\n",
    "# Reference : https://math.stackexchange.com/questions/1962877/compute-the-gradient-of-mean-square-error\n",
    "# We have used the formula/code for Mean Square Error gradient as Objective Function from the above 2 site for\n",
    "# our understanding.\n",
    "from scipy.optimize import fmin_bfgs\n",
    "class BFGSBinaryLogisticRegressionWithMSE(BinaryLogisticRegression):\n",
    "    # We are trying to maximize all the probabilities by different values of w. \n",
    "    @staticmethod\n",
    "    def objective_function(w,X,y,C):\n",
    "        s = expit(X @ w)                  #We take cross-product of X and w. \n",
    "                                          #Then we take logistic function which returns inverse of (1+(exp^-x))\n",
    "        return np.sum((s-y)**2)           #Objective function for MSE gradient and sum it for all values.\n",
    "        \n",
    "    @staticmethod\n",
    "    def objective_gradient(w,X,y,C):\n",
    "        g = expit(X @ w)\n",
    "        ydiff = y-g # get y difference\n",
    "        gradient = np.mean(X * ydiff[:,np.newaxis], axis=0)\n",
    "        gradient = gradient.reshape(w.shape)\n",
    "        gradient[1:] += -2 * w[1:] * C\n",
    "        return -gradient\n",
    "    \n",
    "    # just overwrite fit function\n",
    "    def fit(self, X, y):\n",
    "        Xb = self._add_bias(X) # add bias term\n",
    "        num_samples, num_features = Xb.shape\n",
    "        \n",
    "        self.w_ = fmin_bfgs(self.objective_function, # what to optimize\n",
    "                            np.zeros((num_features,1)), # starting point\n",
    "                            fprime=self.objective_gradient, # gradient function\n",
    "                            args=(Xb,y,self.C), # extra args for gradient and objective function\n",
    "                            gtol=1e-03, # stopping criteria for gradient, |v_k|\n",
    "                            maxiter=self.iters, # stopping criteria iterations\n",
    "                            disp=False)\n",
    "        \n",
    "        self.w_ = self.w_.reshape((num_features,1))"
   ]
  },
  {
   "cell_type": "code",
   "execution_count": 76,
   "metadata": {},
   "outputs": [
    {
     "name": "stdout",
     "output_type": "stream",
     "text": [
      "Using BFGSBinaryLogisticRegressionWithMSE optimization technique\n",
      "MultiClass Logistic Regression Object with coefficients:\n",
      "[[-0.41729323 -0.07769424 -0.64473684 -0.55827068]\n",
      " [-0.30827068 -0.05137845 -0.45927318 -0.39786967]\n",
      " [-0.12155388 -0.1566416  -0.13095238 -0.28258145]\n",
      " [-0.31077694 -0.15789474 -0.46052632 -0.37280702]\n",
      " [-0.34210526 -0.14285714 -0.4981203  -0.39411028]]\n",
      "Accuracy of:  0.36\n"
     ]
    }
   ],
   "source": [
    "lr = MultiClassLogisticRegression(eta=0.1,iterations=1,C=0.00001,solver=\"BFGSBinaryLogisticRegressionWithMSE\")\n",
    "lr.fit(X_train,y_train)\n",
    "print(lr)\n",
    "\n",
    "yhat = lr.predict(X_test)\n",
    "print('Accuracy of: ',accuracy_score(y_test,yhat))"
   ]
  },
  {
   "cell_type": "markdown",
   "metadata": {},
   "source": [
    "We get an accuracy of almost 0.36 with **1 iteration** which is nearly same as the other optimization technique."
   ]
  }
 ],
 "metadata": {
  "kernelspec": {
   "display_name": "Python 3",
   "language": "python",
   "name": "python3"
  },
  "language_info": {
   "codemirror_mode": {
    "name": "ipython",
    "version": 3
   },
   "file_extension": ".py",
   "mimetype": "text/x-python",
   "name": "python",
   "nbconvert_exporter": "python",
   "pygments_lexer": "ipython3",
   "version": "3.6.4"
  }
 },
 "nbformat": 4,
 "nbformat_minor": 2
}
